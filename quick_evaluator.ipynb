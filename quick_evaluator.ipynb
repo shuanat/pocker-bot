{
 "cells": [
  {
   "cell_type": "code",
   "execution_count": 17,
   "metadata": {
    "collapsed": true
   },
   "outputs": [],
   "source": [
    "from deuces import Card, Evaluator\n",
    "import itertools as it\n",
    "import operator as op\n",
    "from datetime import timedelta, datetime\n",
    "import pathos.multiprocessing as mp\n",
    "from pathos.multiprocessing import Pool\n",
    "import log\n",
    "import numpy as np\n",
    "import sys\n",
    "from hurry.filesize import size\n",
    "import array\n",
    "from bisect import bisect_left, bisect_right\n",
    "import scipy.sparse as sp\n",
    "import operator as op\n",
    "import random"
   ]
  },
  {
   "cell_type": "code",
   "execution_count": 14,
   "metadata": {
    "collapsed": false
   },
   "outputs": [],
   "source": [
    "card_primes = [2, 3, 5, 7, 11, 13, 17, 19, 23, 29, 31, 37, 41, 43, 47, 53, 59, 61, 67, 71, 73, 79, \n",
    "         83, 89, 97, 101, 103, 107, 109, 113, 127, 131, 137, 139, 149, 151, 157, 163, 167, 173, \n",
    "         179, 181, 191, 193, 197, 199, 211, 223, 227, 229, 233, 239]\n",
    "\n",
    "suits = list('hdcs')\n",
    "ranks = list('A23456789TJQK')\n",
    "card_labels = ['%s%s' % (r, s) for s, r in it.product(suits, ranks)]\n",
    "\n",
    "\n",
    "def dfh(obj):\n",
    "    return size(sys.getsizeof(obj))\n",
    "\n",
    "\n",
    "def gen_hand5_scores(card_primes, card_labels):\n",
    "    cards = map(Card.new, card_labels)\n",
    "    e = Evaluator()\n",
    "    \n",
    "    pool = mp.Pool(mp.cpu_count())\n",
    "    \n",
    "    ratings = pool.map(lambda h: e.evaluate(h, ()), it.combinations(cards, 5))\n",
    "    max_rating = max(ratings)\n",
    "    scores = pool.map(lambda r: max_rating-r, ratings)\n",
    "    ids = pool.map(lambda h: reduce(op.mul, h), it.combinations(card_primes, 5))\n",
    "    \n",
    "    hand5_scores = dict(zip(ids, scores))\n",
    "    \n",
    "    return hand5_scores\n",
    "        \n",
    "\n",
    "def gen_hand7_scores(card_primes, hand5_scores):\n",
    "    def score_max(card_ids):\n",
    "        hand_ids = [reduce(op.mul, h) for h in it.combinations(card_ids, 5)]\n",
    "        scores = [hand5_scores[hand_id] for hand_id in hand_ids]\n",
    "        max_index = np.argmax(scores)\n",
    "        \n",
    "        return hand_ids[max_index], scores[max_index] \n",
    "    \n",
    "    pool = mp.Pool(mp.cpu_count())\n",
    "    \n",
    "    hand7_scores = pool.map(lambda h: score_max(h), it.combinations(card_primes, 7))\n",
    "    hand7_scores = dict(hand7_scores)\n",
    "    \n",
    "    return hand7_scores"
   ]
  },
  {
   "cell_type": "code",
   "execution_count": 114,
   "metadata": {
    "collapsed": false
   },
   "outputs": [
    {
     "data": {
      "text/plain": [
       "(2598960, '96M', '0:01:17.288858')"
      ]
     },
     "execution_count": 114,
     "metadata": {},
     "output_type": "execute_result"
    }
   ],
   "source": [
    "start = datetime.now()\n",
    "hand5_scores = gen_hand5_scores(card_primes, card_labels)\n",
    "finish = datetime.now()\n",
    "\n",
    "len(hand5_scores), dfh(hand5_scores), str(finish-start)"
   ]
  },
  {
   "cell_type": "code",
   "execution_count": null,
   "metadata": {
    "collapsed": false
   },
   "outputs": [],
   "source": [
    "start = datetime.now()\n",
    "hand7_scores = gen_hand7_scores(card_primes, hand5_scores)\n",
    "finish = datetime.now()\n",
    "\n",
    "len(hand7_scores), str(finish-start)"
   ]
  },
  {
   "cell_type": "code",
   "execution_count": 130,
   "metadata": {
    "collapsed": false
   },
   "outputs": [
    {
     "name": "stdout",
     "output_type": "stream",
     "text": [
      "0:00:12.122865\n"
     ]
    }
   ],
   "source": [
    "def get_hand5s(hand_board):\n",
    "    i = 1\n",
    "    j = 0\n",
    "    cards = []\n",
    "    hand = hand_board\n",
    "    while i < 7:\n",
    "        card_prime = card_primes[j]\n",
    "        if (hand % card_prime) == 0:\n",
    "            i += 1\n",
    "            hand /= card_prime\n",
    "            for c in cards:\n",
    "                yield hand5_scores[hand_board / (c*card_prime)]\n",
    "            cards.append(card_prime)\n",
    "        j += 1\n",
    "    for c in cards:\n",
    "        yield hand5_scores[hand_board / (c*hand)]\n",
    "\n",
    "expected_hand = [11, 59, 89, 167, 193, 223, 233]\n",
    "expected_hands = [hand5_scores[reduce(op.mul, h)] for h in it.combinations(expected_hand, 5)]\n",
    "expected_hand_prime = reduce(op.mul, expected_hand)\n",
    "\n",
    "start = datetime.now()\n",
    "for counter in range(1000000):\n",
    "    actual_hands = [c for c in get_hand5s(expected_hand_prime)]\n",
    "finish = datetime.now()\n",
    "print str(finish-start)\n",
    "if set(expected_hands) != set(actual_hands):\n",
    "    raise Exception('Error!')"
   ]
  },
  {
   "cell_type": "code",
   "execution_count": 129,
   "metadata": {
    "collapsed": false
   },
   "outputs": [
    {
     "name": "stdout",
     "output_type": "stream",
     "text": [
      "0:00:13.593251\n"
     ]
    }
   ],
   "source": [
    "def get_hand5_score(hand_board):\n",
    "    hands = [hand5_scores[reduce(op.mul, h)] for h in it.combinations(hand_board, 5)]\n",
    "    return max(hands)\n",
    "\n",
    "expected_hand = [11, 59, 89, 167, 193, 223, 233]\n",
    "\n",
    "start = datetime.now()\n",
    "for counter in range(1000000):\n",
    "    max_score = get_hand5_score(expected_hand)\n",
    "finish = datetime.now()\n",
    "print str(finish-start)"
   ]
  },
  {
   "cell_type": "code",
   "execution_count": 175,
   "metadata": {
    "collapsed": false
   },
   "outputs": [
    {
     "name": "stdout",
     "output_type": "stream",
     "text": [
      "0:00:07.373697 763 763\n"
     ]
    }
   ],
   "source": [
    "def get_hand5s(hand, board):\n",
    "    cards = hand + board\n",
    "    cards_prime = reduce(op.mul, cards)\n",
    "    l = 6\n",
    "    scores = []\n",
    "    while l > 0:\n",
    "        c = cards.pop()\n",
    "        scores += [hand5_scores[cards_prime/(c*ci)] for ci in cards]\n",
    "        l -= 1\n",
    "        \n",
    "    return max(scores)\n",
    "\n",
    "hand, board = [17, 59], [89, 167, 193, 13, 233]\n",
    "expected_score = max([hand5_scores[reduce(op.mul, h)] for h in it.combinations(hand+board, 5)])\n",
    "\n",
    "start = datetime.now()\n",
    "for counter in range(1000000):\n",
    "    actual_score = get_hand5s(hand, board)\n",
    "finish = datetime.now()\n",
    "print str(finish-start), expected_score, actual_score"
   ]
  },
  {
   "cell_type": "code",
   "execution_count": null,
   "metadata": {
    "collapsed": true
   },
   "outputs": [],
   "source": []
  }
 ],
 "metadata": {
  "kernelspec": {
   "display_name": "Python 2",
   "language": "python",
   "name": "python2"
  },
  "language_info": {
   "codemirror_mode": {
    "name": "ipython",
    "version": 2
   },
   "file_extension": ".py",
   "mimetype": "text/x-python",
   "name": "python",
   "nbconvert_exporter": "python",
   "pygments_lexer": "ipython2",
   "version": "2.7.12"
  }
 },
 "nbformat": 4,
 "nbformat_minor": 0
}
