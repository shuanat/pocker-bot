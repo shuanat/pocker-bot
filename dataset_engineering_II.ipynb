{
 "cells": [
  {
   "cell_type": "code",
   "execution_count": 1,
   "metadata": {
    "collapsed": true
   },
   "outputs": [],
   "source": [
    "%matplotlib inline\n",
    "import matplotlib.pyplot as plt\n",
    "from PIL import Image, ImageChops\n",
    "import PIL\n",
    "import numpy as np\n",
    "import math\n",
    "from tensorflow.examples.tutorials.mnist import input_data"
   ]
  },
  {
   "cell_type": "code",
   "execution_count": 2,
   "metadata": {
    "collapsed": false
   },
   "outputs": [
    {
     "name": "stdout",
     "output_type": "stream",
     "text": [
      "Extracting MNIST_data/train-images-idx3-ubyte.gz\n",
      "Extracting MNIST_data/train-labels-idx1-ubyte.gz\n",
      "Extracting MNIST_data/t10k-images-idx3-ubyte.gz\n",
      "Extracting MNIST_data/t10k-labels-idx1-ubyte.gz\n"
     ]
    }
   ],
   "source": [
    "mnist = input_data.read_data_sets(\"MNIST_data/\", one_hot=True)"
   ]
  },
  {
   "cell_type": "code",
   "execution_count": 9,
   "metadata": {
    "collapsed": false
   },
   "outputs": [
    {
     "data": {
      "text/plain": [
       "(55000, 784)"
      ]
     },
     "execution_count": 9,
     "metadata": {},
     "output_type": "execute_result"
    }
   ],
   "source": [
    "images = mnist.train.images\n",
    "images.shape"
   ]
  },
  {
   "cell_type": "code",
   "execution_count": 10,
   "metadata": {
    "collapsed": true
   },
   "outputs": [],
   "source": [
    "def jitter(image, angle, center, new_center, scale):\n",
    "    angle = -angle/180.0*math.pi\n",
    "    nx,ny = x,y = center\n",
    "    sx=sy=1.0\n",
    "    (nx,ny) = new_center\n",
    "    (sx,sy) = scale\n",
    "    cosine = math.cos(angle)\n",
    "    sine = math.sin(angle)\n",
    "    a = cosine/sx\n",
    "    b = sine/sx\n",
    "    c = x-nx*a-ny*b\n",
    "    d = -sine/sy\n",
    "    e = cosine/sy\n",
    "    f = y-nx*d-ny*e\n",
    "    image = image.convert('RGBA')\n",
    "    image = image.transform(image.size, Image.AFFINE, (a,b,c,d,e,f))\n",
    "    \n",
    "    fff = Image.new('RGBA', image.size, (255,)*4)\n",
    "    image = Image.composite(image, fff, image)\n",
    "    \n",
    "    return image.convert('RGBA')\n",
    "\n",
    "def jitter_random(image):\n",
    "    r = lambda v: v * (.5 - np.random.rand())\n",
    "    width, height = image.size\n",
    "    \n",
    "    angle = r(20)\n",
    "    center = width/2 + r(width/10), height/2 + r(height/10)\n",
    "    new_center = width/2 + r(width/20), height/2 + r(height/20)\n",
    "    scale = 1 + r(.3), 1 + r(.3)\n",
    "    \n",
    "    return jitter(image, angle, center, new_center, scale)"
   ]
  },
  {
   "cell_type": "code",
<<<<<<< HEAD
   "execution_count": 13,
   "metadata": {
    "collapsed": false
   },
=======
   "execution_count": 19,
   "metadata": {},
>>>>>>> e36e5d7a2d0134564559d86c9f1da452fd9e83bb
   "outputs": [
    {
     "data": {
      "text/plain": [
       "<matplotlib.image.AxesImage at 0x10af8e8d0>"
      ]
     },
     "execution_count": 13,
     "metadata": {},
     "output_type": "execute_result"
    },
    {
     "data": {
      "image/png": "iVBORw0KGgoAAAANSUhEUgAAAMoAAAD8CAYAAAA2RjsYAAAABHNCSVQICAgIfAhkiAAAAAlwSFlz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\ngID/B3RwD5QgCwUDAAAAAElFTkSuQmCC\n",
      "text/plain": [
       "<matplotlib.figure.Figure at 0x10aea5850>"
      ]
     },
     "metadata": {},
     "output_type": "display_data"
    }
   ],
   "source": [
    "rank_3 = Image.open('res/cards/rank/2.png')\n",
    "rank_3_arr = np.asarray(rank_3).copy()\n",
    "rgb = rank_3_arr[:,:,1:3]\n",
    "rank_3_arr[:,:,1:3][np.where(rgb == 255)] = 0\n",
    "blank = Image.new(mode='RGBA',size=rank_3.size,color=1)\n",
    "blank.paste(Image.fromarray(rank_3_arr))\n",
    "rank_3 = blank\n",
    "\n",
    "rank_3 = jitter_random(rank_3)\n",
    "rank_3_arr = np.asarray(rank_3).copy()\n",
    "\n",
    "plt.imshow(rank_3_arr, interpolation='none')"
   ]
  },
  {
   "cell_type": "code",
   "execution_count": 220,
   "metadata": {
    "collapsed": true
   },
   "outputs": [],
   "source": [
    "def warp(image):\n",
    "    width, height = image.size\n",
    "    \n",
    "    r = lambda v: v * (.5 - np.random.rand())\n",
    "    x, y = width/2 + r(width/10), height/2 + r(height/10)\n",
    "    angle = r(math.pi * .1)\n",
    "    \n",
    "    nx, ny = width/2 + r(width/20), height/2 + r(height/20)\n",
    "    sx, sy = 1 + r(.3), 1 + r(.3)\n",
    "    \n",
    "    cosine = math.cos(angle)\n",
    "    sine = math.sin(angle)\n",
    "    a = cosine/sx\n",
    "    b = sine/sx\n",
    "    c = x-nx*a-ny*b\n",
    "    d = -sine/sy\n",
    "    e = cosine/sy\n",
    "    f = y-nx*d-ny*e\n",
    "    \n",
    "    image = image.transform(image.size, Image.AFFINE, (a,b,c,d,e,f))\n",
    "    \n",
    "    return image.convert('RGBA')"
   ]
  },
  {
   "cell_type": "code",
   "execution_count": 234,
   "metadata": {},
   "outputs": [
    {
     "data": {
      "text/plain": [
       "<matplotlib.image.AxesImage at 0x111849990>"
      ]
     },
     "execution_count": 234,
     "metadata": {},
     "output_type": "execute_result"
    },
    {
     "data": {
      "image/png": "iVBORw0KGgoAAAANSUhEUgAAAMoAAAD8CAYAAAA2RjsYAAAABHNCSVQICAgIfAhkiAAAAAlwSFlz\nAAALEgAACxIB0t1+/AAADURJREFUeJzt3V+MHfV5xvHn8RpQQoN3lWK7wopJ1EISBLhQjCg0GpQQ\nUCKwVSVOwBehkaKQQBXoDZCL7KZX4QapVZMbx0VOZBNaIgejSImD0IlkUv6EYNZtjUn/GELAiyXo\nGkcocrxvL/awrHf3nHn3zNlz5ni/H2nkOTO/M/PueJ+dOec3fxwRAtDein4XAAwCggIkEBQggaAA\nCQQFSCAoQEKloNi+wfYLtl+0fXe3igLqxp32o9heIelFSR+X9KqkZyR9PiJemNOOjhoMlIjw3GlV\n9igbJf06Il6KiBOSfiBpU4sVzwyjo6OnvK7zQK3Lr9ZWqgTlPEm/mfX6leY04LTDh3kgYWWF9/5W\n0gdmvV7XnDbP2NjYzPjw8HCFVfZWURT9LiGNWjvTaDTUaDRK21X5MD8k6ZCmP8y/JulpSTdHxME5\n7aLTdQC9ZluxwIf5jvcoEXHS9h2S9mr6EG773JAAp4uO9yjpFbBHwQBptUfhwzyQQFCABIICJBAU\nIIGgAAkEBUggKEACQQESCAqQQFCABIICJBAUIIGgAAkEBUggKEACQQESCAqQUOXmEj0TK3qT5/C8\nC9tOseLkyZ7UkTE5Odl2/uEbbyxdxsVPPFHa5vAFF6RrauWDhw61nV+23SXpvz/60bbzX73tttJl\n/NVXvtJ2vtvUwR4FSCAoQAJBARIICpBAUIAEggIkEBQggaAACYNxS9VEh1SZTKeWp6Yqr6dX9l97\nbdv5l/7856XLcOL/pWy7nRwaqryeoURHbub/r8z4Nde0nT9y3XVa/41vcEtVoFMEBUggKEACQQES\nCAqQQFCABIICJFS6cMv2YUmTkqYknYiIjd0oCqibqlc4TkkqIuLNbhSDaU/u3l3a5spEh2KZo6tX\nl7b5r29/u+38qz7zmcp1ZDqkn3z44fZ1bNlSuoxL9u1r32D9+pazqh56uQvLAGqv6i95SPqZ7Wds\nf6kbBQF1VPXQ6+qIeM32uZoOzMGIKNm/AYOnUlAi4rXmv0dt75a0UdK8oIyNjc2MF0WhoiiqrBbo\nmkaEGu+8eP75lu06Dort90paERHHbZ8t6ZOSvrlQ29lBAeqksFW88+LSS/X3Bw4s2K7KHmWNpN22\no7mcnRGxt8LygNrqOCgR8b+SNnSxFqC2BuJOkctNPPhgaZuyi6EyFzr9z7ZtpW2uuumm0jZVtbtD\n40wdn/1s2/lP/ehHpcu4cvPm9g3abFP6QIAEggIkEBQggaAACQQFSCAoQAJBARIICpBAh2MN/cn+\n/aVtunEHx7/49KfTNdXd5YmfpWybuM0jENmjAAkEBUggKEACQQESCAqQQFCABIICJNCPUkMjR49W\nXsbb73lPaZv3JfpaBsXKleW/ysdLtsnKM89sOY89CpBAUIAEggIkEBQggaAACQQFSCAoQAJBARLo\ncKyjxBOoyu4Uefbvftetak4bpdvk979vOYs9CpBAUIAEggIkEBQggaAACQQFSCAoQEJpUGxvtz1h\ne3zWtBHbe20fsv1T26uWtkwsliNKh+WmyjbJ7FEekHT9nGn3SHosIi6U9LikezuuHhgApUGJiH2S\n3pwzeZOkHc3xHZJKHo4HDLZOP6OsjogJSYqII5JWd68koH669WF++R3wYlnp9KTICdtrImLC9lpJ\nr7drPDY2NjNeFIWKouhwtUB3NZqDJGl8vGU7R+ZMVft8SY9GxMXN1/dJeiMi7rN9t6SRiLinxXsj\ns46SAqq9X7nnrntqqvJ6umFyeLi0zarJybbzB+nn7ZmybbJ1q7xzpyJiXsPM18O7JP1C0gW2X7b9\nN5K+Jek624ckfbz5GjhtlR56RcQtLWZ9osu1ALXFhVt9MDky0u8SsEicwgIkEBQggaAACQQFSCAo\nQAJBARIICpBAUIAEOhz7YRleXTjo2KMACQQFSCAoQAJBARIICpBAUIAEggIkEBQggaAACQQFSCAo\nQAJBARIICpBAUIAEggIkEBQggQu3auicY8f6XcLAiRXlf/Or3OqdPQqQQFCABIICJBAUIIGgAAkE\nBUggKEBC5hmO221P2B6fNW3U9iu2f9UcbljaMpcXR5QOONVSb7PMHuUBSdcvMP3+iLisOfykUhVA\nzZUGJSL2SXpzgVnVn2kNDIgqn1HusL3f9ndtr+paRUANdRqU70j6UERskHRE0v3dKwmon45OioyI\no7NebpP0aLv2Y2NjM+NFUagoik5WC3RdozlIksbHW7ZzJL4NsH2+pEcj4uLm67URcaQ5fpekKyLi\nlhbvjcw6Sgqo9n5JkViGp6Yqrydjcni47fxVk5OV11Gnn7cnuvA7oq1b5Z07FRHzFla6R7G9S1Ih\n6f22X5Y0Kula2xskTUk6LOnL1asE6qs0KC32FA8sQS1AbdXiwq2yi274Hhr9xiksQAJBARIICpBA\nUIAEggIkEBQggaAACQQFSKhFh+Nyu2Jvamio7fzMeVrHzjmnfYPEMrg2Io89CpBAUIAEggIkEBQg\ngaAACQQFSCAoQEIt+lGWm/8799y280feeKN0Ge9766228//w9tulyzhx4kRpmzPOOKO0TR1Mrirv\nFapyLwL2KEACQQESCAqQQFCABIICJBAUIIGgAAkEBUigw7EPXr388rbzP3joUOkyyi52++UPf7io\nmlr5y5tv7spyqnpy9+628688dmxJ188eBUggKEACQQESCAqQQFCABIICJBAUICHzDMd1kr4naY2m\nn9m4LSL+0faIpIckrdf0cxy3RET1p3QuAyu3bGnfYNeuyuu46KtfLW2TudHev5XcrO+qsp8l4RcP\nPVTa5qLbbms7f6lvopjZo/xB0t9FxEWSrpJ0u+0PS7pH0mMRcaGkxyXdu3RlAv1VGpSIOBIR+5vj\nxyUdlLRO0iZJO5rNdkjavFRFAv22qM8ozefNb5D0pKQ1ETEhTYdJ0upuFwfURTootv9I0sOSvtbc\ns8w9KFxed9rGspI6KdL2Sk2H5PsR8Uhz8oTtNRExYXutpNdbvX9sbGxmvCgKFUXRccFANzWagyRp\nfLxlu+zZw/8s6T8j4h9mTdsj6VZJ90n6gqRHFnifpFODAtRJ0RwkSZdcom8eOLBgu8zXw1dL2irp\ngO3nNH2I9XVNB+RfbH9R0kuSqn9PCNRUaVAi4glJrb5M/0R3ywHqybHEHTW2o3QdiY6vqjKda56a\nWvI6Mp7etKm0zcY9e9rOz/y8y81Tm9v3YPzxxz6mP7vrLkXEvI3HKSxAAkEBEggKkEBQgASCAiQQ\nFCCBoAAJ9ehHwSky2+uXN97Ydv4VP/5xt8qphbJ+oadvuql0GZc8+GDb+UNDQzrrrLPoRwE6RVCA\nBIICJBAUIIGgAAkEBUggKEACQQES6HA8TWW2+QtXXFHa5iPPPlu9lpLOwoMlTyCTpDduv73t/Gtu\nvXUxJbVkmw5HoFMEBUggKEACQQESCAqQQFCABIICJBAUIIEOR2AWOhyBCggKkEBQgASCAiQQFCCB\noAAJBAVIKA2K7XW2H7f9H7YP2P7b5vRR26/Y/lVzuGHpywX6o7TDsflo7LURsb/5rPlnJW2S9DlJ\nb0XE/SXvp8MRA6NVh2PmYadHJB1pjh+3fVDSee8st6tVAjW1qM8ots+XtEHSU81Jd9jeb/u7tld1\nuTagNtJBaR52PSzpaxFxXNJ3JH0oIjZoeo/T9hAMGGSlh16SZHulpkPy/Yh4RJIi4uisJtskPdrq\n/WNjYzPjw8PDuvPOOzuptecajYaKouh3GSnU2plGo6FGo1HeMCJKB0nfk3T/nGlrZ43fJWlXi/fG\nbKOjozEoqHVp1LnW5u/rvN/j0j2K7aslbZV0wPZzkkLS1yXdYnuDpClJhyV9eZFhBgZG5luvJyQN\nLTDrJ90vB6innly4taQrALosFuhHWfKgAKcDzvUCEggKkNDToNi+wfYLtl+0fXcv171Ytg/bft72\nc7af7nc9s9nebnvC9visaSO299o+ZPundTlTokWtA3dCbc+CYnuFpH+SdL2kiyTdbPvDvVp/B6Yk\nFRHx5xGxsd/FzPGAprfjbPdIeiwiLpT0uKR7e17VwhaqVZrul7usOdT+G9Re7lE2Svp1RLwUESck\n/UDTZyHXlVXTQ9OI2CfpzTmTN0na0RzfIWlzT4tqoUWt0oCdUNvLX4TzJP1m1utX9O5ZyHUUkn5m\n+xnbX+p3MQmrI2JCmjnje3Wf6ykzUCfU1vIvZk1cHRGXSfqUpNttX9Pvghapzt/7D9wJtb0Mym8l\nfWDW63XNabUUEa81/z0qabemDx3rbML2GmnmYrvX+1xPSxFxNN7twNsmqfwZeX3Wy6A8I+lPba+3\nfaakz0va08P1p9l+b/OyAtk+W9InJf17f6uaxzr1OH+PpFub41+Q9EivC2rjlFqbQX7HX6t+23ae\n1Gn23RARJ23fIWmvpgO6PSIO9mr9i7RG0u7m6TcrJe2MiL19rmmG7V2SCknvt/2ypFFJ35L0r7a/\nKOklSVv6V+G7WtR67aCdUMspLEACH+aBBIICJBAUIIGgAAkEBUggKEACQQESCAqQ8P/f3Y4sAOer\ncQAAAABJRU5ErkJggg==\n",
      "text/plain": [
       "<matplotlib.figure.Figure at 0x11115d790>"
      ]
     },
     "metadata": {},
     "output_type": "display_data"
    }
   ],
   "source": [
    "rank_3 = Image.open('res/cards/rank_10.png')\n",
    "rank_3_arr = np.asarray(rank_3).copy()\n",
    "rgb = rank_3_arr[:,:,1:3]\n",
    "rank_3_arr[:,:,1:3][np.where(rgb == 255)] = 0\n",
    "blank = Image.new(mode='RGBA',size=rank_3.size,color=1)\n",
    "blank.paste(Image.fromarray(rank_3_arr))\n",
    "rank_3 = blank\n",
    "\n",
    "rank_3 = warp(rank_3)\n",
    "rank_3_arr = np.asarray(rank_3).copy()\n",
    "\n",
    "plt.imshow(rank_3_arr, interpolation='none')"
   ]
  },
  {
   "cell_type": "code",
   "execution_count": null,
   "metadata": {
    "collapsed": true
   },
   "outputs": [],
   "source": []
  }
 ],
 "metadata": {
  "kernelspec": {
   "display_name": "Python 3",
   "language": "python",
   "name": "python3"
  },
  "language_info": {
   "codemirror_mode": {
    "name": "ipython",
    "version": 3
   },
   "file_extension": ".py",
   "mimetype": "text/x-python",
   "name": "python",
   "nbconvert_exporter": "python",
   "pygments_lexer": "ipython3",
   "version": "3.5.2"
  }
 },
 "nbformat": 4,
 "nbformat_minor": 1
}
