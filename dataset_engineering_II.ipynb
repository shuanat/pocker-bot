{
 "cells": [
  {
   "cell_type": "code",
   "execution_count": 321,
   "metadata": {
    "collapsed": true
   },
   "outputs": [],
   "source": [
    "%matplotlib inline\n",
    "import matplotlib.pyplot as plt\n",
    "from PIL import Image, ImageChops\n",
    "import PIL\n",
    "import numpy as np\n",
    "import math"
   ]
  },
  {
   "cell_type": "code",
   "execution_count": 325,
   "metadata": {
    "collapsed": true
   },
   "outputs": [],
   "source": [
    "def jitter(image, angle, center=None, new_center=None, scale=None):\n",
    "    if center is None:\n",
    "        return image.rotate(angle)\n",
    "    angle = -angle/180.0*math.pi\n",
    "    nx,ny = x,y = center\n",
    "    sx=sy=1.0\n",
    "    if new_center:\n",
    "        (nx,ny) = new_center\n",
    "    if scale:\n",
    "        (sx,sy) = scale\n",
    "    cosine = math.cos(angle)\n",
    "    sine = math.sin(angle)\n",
    "    a = cosine/sx\n",
    "    b = sine/sx\n",
    "    c = x-nx*a-ny*b\n",
    "    d = -sine/sy\n",
    "    e = cosine/sy\n",
    "    f = y-nx*d-ny*e\n",
    "    image = image.convert('RGB')\n",
    "    image = image.transform(image.size, Image.AFFINE, (a,b,c,d,e,f))\n",
    "    \n",
    "    fff = Image.new('RGB', image.size, (255,)*4)\n",
    "    image = Image.composite(image, fff, image)\n",
    "    \n",
    "    return image.convert('RGB')\n",
    "\n",
    "def jitter_random(image):\n",
    "    r = lambda v: v * (.5 - np.random.rand())\n",
    "    width, height = image.size\n",
    "    \n",
    "    angle = r(10)\n",
    "    c = width/2 + r(width/10), height/2 + r(height/10)\n",
    "    nc = width/2 + r(width/20), height/2 + r(height/20)\n",
    "    s = 1 + r(.3), 1 + r(.3)\n",
    "    \n",
    "    return wiggle(image, angle, center=c, new_center=nc, scale=s)"
   ]
  },
  {
   "cell_type": "code",
   "execution_count": 337,
   "metadata": {
    "collapsed": false
   },
   "outputs": [
    {
     "data": {
      "text/plain": [
       "<matplotlib.image.AxesImage at 0x11f89bf10>"
      ]
     },
     "execution_count": 337,
     "metadata": {},
     "output_type": "execute_result"
    },
    {
     "data": {
      "image/png": "[encoded data removed]",
      "text/plain": [
       "<matplotlib.figure.Figure at 0x11f2b85d0>"
      ]
     },
     "metadata": {},
     "output_type": "display_data"
    }
   ],
   "source": [
    "rank_3 = Image.open('res/cards/rank_7.png')\n",
    "rank_3_arr = np.asarray(rank_3).copy()\n",
    "rgb = rank_3_arr[:,:,1:3]\n",
    "rank_3_arr[:,:,1:3][np.where(rgb == 255)] = 0\n",
    "blank = Image.new(mode='RGBA',size=rank_3.size,color=1)\n",
    "blank.paste(Image.fromarray(rank_3_arr))\n",
    "rank_3 = blank\n",
    "\n",
    "rank_3 = jitter_random(rank_3)\n",
    "rank_3_arr = np.asarray(rank_3).copy()\n",
    "\n",
    "plt.imshow(rank_3_arr, interpolation='none')"
   ]
  },
  {
   "cell_type": "code",
   "execution_count": null,
   "metadata": {
    "collapsed": true
   },
   "outputs": [],
   "source": []
  },
  {
   "cell_type": "code",
   "execution_count": null,
   "metadata": {
    "collapsed": true
   },
   "outputs": [],
   "source": []
  }
 ],
 "metadata": {
  "kernelspec": {
   "display_name": "Python 2",
   "language": "python",
   "name": "python2"
  },
  "language_info": {
   "codemirror_mode": {
    "name": "ipython",
    "version": 2
   },
   "file_extension": ".py",
   "mimetype": "text/x-python",
   "name": "python",
   "nbconvert_exporter": "python",
   "pygments_lexer": "ipython2",
   "version": "2.7.12"
  }
 },
 "nbformat": 4,
 "nbformat_minor": 0
}
