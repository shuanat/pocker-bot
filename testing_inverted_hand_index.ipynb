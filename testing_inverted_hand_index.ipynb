{
 "cells": [
  {
   "cell_type": "code",
   "execution_count": 250,
   "metadata": {
    "collapsed": false
   },
   "outputs": [],
   "source": [
    "import itertools\n",
    "import sys\n",
    "from datetime import timedelta, datetime\n",
    "import operator"
   ]
  },
  {
   "cell_type": "code",
   "execution_count": 242,
   "metadata": {
    "collapsed": true
   },
   "outputs": [],
   "source": [
    "def array_to_int(a):\n",
    "#     a = list(a)\n",
    "    return sum([a[0] << 8*4, a[1] << 8*3, a[2] << 8*2, a[3] << 8*1, a[4]])\n",
    "\n",
    "def intersect(left_hand, right_hand):\n",
    "    for card in left_hand:\n",
    "        if card in right_hand:\n",
    "            return True\n",
    "    return False"
   ]
  },
  {
   "cell_type": "code",
   "execution_count": 281,
   "metadata": {
    "collapsed": false
   },
   "outputs": [],
   "source": [
    "cards = {2, 3, 5, 7, 11, 13, 17, 19, 23, 29, 31, 37, 41, 43, 47, \n",
    "          53, 59, 61, 67, 71, 73, 79, 83, 89, 97, 101, 103, 107, \n",
    "          109, 113, 127, 131, 137, 139, 149, 151, 157, 163, 167, \n",
    "          173, 179, 181, 191, 193, 197, 199, 211, 223, 227, 229, \n",
    "          233, 239}"
   ]
  },
  {
   "cell_type": "code",
   "execution_count": 295,
   "metadata": {
    "collapsed": false
   },
   "outputs": [
    {
     "name": "stdout",
     "output_type": "stream",
     "text": [
      "10810 0:00:02.934781\n"
     ]
    }
   ],
   "source": [
    "start = datetime.now()\n",
    "\n",
    "mine_hand = (73, 197)\n",
    "cards_buf = cards.copy() - set(mine_hand)\n",
    "community_cards = (83, 149, 223, 11, 109)\n",
    "    \n",
    "for i in range(1000):\n",
    "    opponent_hands = []\n",
    "    \n",
    "    for b in itertools.combinations(community_cards, 3):\n",
    "        b1 = b[0] * b[1] * b[2]\n",
    "        deck = cards_buf.copy() - set(b)\n",
    "        for h in itertools.combinations(deck, 2):\n",
    "            h1 = b1 * h[0] * h[1]\n",
    "            opponent_hands.append(h1)\n",
    "\n",
    "finish = datetime.now()\n",
    "\n",
    "print len(opponent_hands), finish-start"
   ]
  },
  {
   "cell_type": "code",
   "execution_count": null,
   "metadata": {
    "collapsed": true
   },
   "outputs": [],
   "source": []
  },
  {
   "cell_type": "code",
   "execution_count": null,
   "metadata": {
    "collapsed": true
   },
   "outputs": [],
   "source": []
  }
 ],
 "metadata": {
  "kernelspec": {
   "display_name": "Python 2",
   "language": "python",
   "name": "python2"
  },
  "language_info": {
   "codemirror_mode": {
    "name": "ipython",
    "version": 2
   },
   "file_extension": ".py",
   "mimetype": "text/x-python",
   "name": "python",
   "nbconvert_exporter": "python",
   "pygments_lexer": "ipython2",
   "version": "2.7.12"
  }
 },
 "nbformat": 4,
 "nbformat_minor": 0
}
