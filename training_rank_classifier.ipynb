{
 "cells": [
  {
   "cell_type": "code",
<<<<<<< HEAD
   "execution_count": 395,
   "metadata": {
    "collapsed": true
   },
=======
   "execution_count": 1,
   "metadata": {},
>>>>>>> e36e5d7a2d0134564559d86c9f1da452fd9e83bb
   "outputs": [],
   "source": [
    "%matplotlib inline\n",
    "import matplotlib.pyplot as plt\n",
    "from itertools import cycle, islice\n",
    "from os import listdir, path\n",
    "from os.path import isfile, join\n",
    "from PIL import Image\n",
    "import numpy as np\n",
    "import math\n",
    "from datetime import datetime\n",
    "import tensorflow as tf"
   ]
  },
  {
   "cell_type": "code",
<<<<<<< HEAD
   "execution_count": 396,
   "metadata": {
    "collapsed": false
   },
=======
   "execution_count": 6,
   "metadata": {},
>>>>>>> e36e5d7a2d0134564559d86c9f1da452fd9e83bb
   "outputs": [],
   "source": [
    "def with_white_bg(image):\n",
    "    white_bg = Image.new(mode='RGBA', size=image.size, color='white')\n",
    "    white_bg.paste(image, mask=image)\n",
    "    return white_bg\n",
    "\n",
    "\n",
    "def red(image):\n",
    "    arr = np.asarray(image).copy()\n",
    "    rgb = arr[:,:,1:3]\n",
    "    arr[:,:,1:3][np.where(rgb == 255)] = 0\n",
<<<<<<< HEAD
    "    red_rank = Image.fromarray(arr)\n",
    "    return with_white_bg(red_rank)\n",
=======
    "    \n",
    "    return Image.fromarray(arr)\n",
>>>>>>> e36e5d7a2d0134564559d86c9f1da452fd9e83bb
    "\n",
    "\n",
    "def black(image):\n",
    "    arr = np.asarray(image).copy()\n",
    "    rgb = arr[:,:,0:3]\n",
    "    arr[:,:,0:3][np.where(rgb == 255)] = 0\n",
<<<<<<< HEAD
    "    black_rank = Image.fromarray(arr)\n",
    "    return with_white_bg(black_rank)\n",
=======
    "    \n",
    "    return Image.fromarray(arr)\n",
>>>>>>> e36e5d7a2d0134564559d86c9f1da452fd9e83bb
    "\n",
    "\n",
    "def load_rank_images(rank_images_dir):\n",
    "    for name in listdir(rank_images_dir):\n",
    "        full_path = join(rank_images_dir, name)\n",
    "        if not isfile(full_path):\n",
    "            continue\n",
    "\n",
    "        rank = path.splitext(path.basename(full_path))[0]\n",
    "        image = Image.open(full_path)\n",
    "        red_image = red(image)\n",
    "        black_image = black(image)\n",
    "\n",
    "        yield (red_image, rank)\n",
    "        yield (black_image, rank)\n",
    "\n",
    "\n",
    "def warp(img, angle, center, new_center, scale):\n",
    "    angle = -angle/180.0*math.pi\n",
    "    nx,ny = x,y = center\n",
    "    sx=sy=1.0\n",
    "    (nx,ny) = new_center\n",
    "    (sx,sy) = scale\n",
    "    cosine = math.cos(angle)\n",
    "    sine = math.sin(angle)\n",
    "    a = cosine/sx\n",
    "    b = sine/sx\n",
    "    c = x-nx*a-ny*b\n",
    "    d = -sine/sy\n",
    "    e = cosine/sy\n",
    "    f = y-nx*d-ny*e\n",
    "    \n",
<<<<<<< HEAD
    "    img = img.transform(img.size, Image.AFFINE, (a,b,c,d,e,f))\n",
    "    bg = Image.new('RGB', img.size, 'white')\n",
    "    \n",
    "    return Image.composite(img, bg, img)\n",
    "\n",
    "\n",
    "def warp_rnd(image, level=1):\n",
    "    r = lambda v: v * (.5 - np.random.rand()) * 2 * level\n",
=======
    "    fff = Image.new('RGBA', img.size, (255,)*4)\n",
    "    warped_img = img.transform(img.size, Image.AFFINE, (a,b,c,d,e,f))\n",
    "    img = Image.composite(warped_img, fff, warped_img)\n",
    "    \n",
    "    return img.convert('L')\n",
    "\n",
    "\n",
    "def warp_rnd(image):\n",
    "    r = lambda v: v * (.5 - np.random.rand())\n",
>>>>>>> e36e5d7a2d0134564559d86c9f1da452fd9e83bb
    "    width, height = image.size\n",
    "    \n",
    "    angle = r(90)\n",
    "    center = width/2 + r(width/4), height/2 + r(height/4)\n",
    "    new_center = width/2 + r(width/4), height/2 + r(height/4)\n",
    "    scale = 1 + r(.5), 1 + r(.5)\n",
    "    \n",
    "    return warp(image, angle, center, new_center, scale)\n",
    "\n",
    "\n",
<<<<<<< HEAD
    "def gen_rank_samples(rank_images_dir, count, rnd_level=.2):\n",
    "    samples = list(load_rank_images('res/cards/rank'))\n",
    "    samples = [(warp_rnd(image, rnd_level), label) for (image, label) in islice(cycle(samples), 0, count)]\n",
    "    images, labels = zip(*samples)\n",
    "    return images, labels"
=======
    "def gen_rank_samples(rank_images_dir, count, warping=True):\n",
    "    samples = list(load_rank_samples(rank_images_dir))\n",
    "    if warping:\n",
    "        samples = [(warp_rnd(image), label) for (image, label) in islice(cycle(samples), 0, count)]\n",
    "    images, labels = zip(*samples)\n",
    "    vocabulary = sorted(list(set(labels)))\n",
    "    labels = [vocabulary.index(label) for label in labels]\n",
    "    return images, labels, vocabulary"
>>>>>>> e36e5d7a2d0134564559d86c9f1da452fd9e83bb
   ]
  },
  {
   "cell_type": "code",
<<<<<<< HEAD
   "execution_count": 397,
   "metadata": {
    "collapsed": false
   },
=======
   "execution_count": 58,
   "metadata": {},
>>>>>>> e36e5d7a2d0134564559d86c9f1da452fd9e83bb
   "outputs": [
    {
     "data": {
      "text/plain": [
<<<<<<< HEAD
       "<matplotlib.image.AxesImage at 0x11b36a550>"
      ]
     },
     "execution_count": 397,
     "metadata": {},
     "output_type": "execute_result"
    },
    {
     "data": {
      "image/png": "iVBORw0KGgoAAAANSUhEUgAAAMoAAAD8CAYAAAA2RjsYAAAABHNCSVQICAgIfAhkiAAAAAlwSFlz\nAAALEgAACxIB0t1+/AAADihJREFUeJzt3W+MlOW5x/HfBXowgAHdHJYAqdgYrWlSOZwU4784DaXi\nCQnKCyhW0x6M9AWYWmKCGg3Du+4LScRjNQIhSID2SGLcxj+HJWSI9nhONy2e0yaokHNQqbKlkYia\nGChefbHjsiw7z33tPDOzz+x+P8mGmee+576vbPjtMzP388fcXQCyTRjtAoB2QFCAAIICBBAUIICg\nAAEEBQjIFRQzW2xm75jZe2a2vlFFAUVj9a6jmNkESe9JWijpI0m9kn7o7u8M6cdCDdqKu9vQbXn2\nKAskHXH39939rKRfSVpaY+KBnw0bNlzwvMg/1Dr+aq0lT1BmS/pw0PPj1W3AmMOHeSDgkhyv/bOk\nbwx6Pqe67SLlcnng8fTp03NM2VqlUmm0Swij1vpUKhVVKpVkvzwf5idKelf9H+Y/lvQ7SSvd/fCQ\nfl7vHECrmZl8mA/zde9R3P2cma2VtE/9b+G2DQ0JMFbUvUcJT8AeBW2k1h6FD/NAAEEBAggKEEBQ\ngACCAgQQFCCAoAABBAUIIChAAEEBAggKEEBQgACCAgQQFCCAoAABBAUIIChAAEEBAggKEEBQgACC\nAgQQFCCAoAABBAUIIChAAEEBAvJczX7ciVwatre3N9lnz549me3Hjx9PjtHd3Z3Zfvbs2eQYixYt\nSva55pprMtufeeaZ5BhjAXsUIICgAAEEBQggKEAAQQECCAoQQFCAgFzrKGZ2TNKnkr6SdNbdFzSi\nKKBoct3D0cz+T9I/u/upjD4tuYdjao5Tp2qWOOCLL77IbF+3bl1yjL179yb7tBOzi25neIGdO3cm\nx1i8eHFme0dHx4hqaqZm3cPRGjAGUHh5/5O7pB4z6zWzBxpREFBEeY/1usXdPzazf1R/YA67+5uN\nKAwoklxBcfePq/+eNLOXJC2QdFFQyuXywONSqaRSqZRnWqBhKpWKKpVKsl/dQTGzyZImuPvnZjZF\n0g8kbRyu7+CgAEUy9A/3xo3D/hfOtUfplPSSmXl1nF3uvi/HeEBh1R0Ud/9/SfMaWAtQWLnWUUIT\nFGQdZevWrckxVq9e3ahyMEhnZ2dm+1NPPZUcY8WKFY0qJ1Oz1lGAcYGgAAEEBQggKEAAQQECCAoQ\nQFCAAIICBIybK0Xu2rWrJfNMnTo12aerqyuz/eabb06OMXPmzMz2adOmJcc4evRoss/hw4cz2yML\nuT09PZntK1euTI5x8uTJzPa1a9cmx8iDPQoQQFCAAIICBBAUIICgAAEEBQggKEDAuDlx67LLLkuO\ncebMmdx1vPLKK8k+d955Z+55iiJyZ69Jkyblnid1Ib6DBw8mx7jttttC83DiFlAnggIEEBQggKAA\nAQQFCCAoQABBAQIIChAwbk7cuvTSS5N9GrHguGjRomSf1OJZO4n8Xo8dO5bZPnfu3OQYqQXlF198\nMTlGZMGxFvYoQABBAQIIChBAUIAAggIEEBQggKAAAcl1FDPbJmmJpD53/0512xWSfi3pKknHJC13\n90+bWGduS5YsSfaZPXt2ZvvChQuTY5w+fTrZp6OjI9lnLGnFutGrr76a7LN58+a6x4/sUbZLumPI\ntkck7Xf36yQdkPRo3RUAbSAZFHd/U9KpIZuXStpRfbxD0l0NrgsolHo/o8xw9z5JcvcTkmY0riSg\neBr1Yb75V48ARlG9B0X2mVmnu/eZ2UxJf8nqXC6XBx6XSiWVSqU6pwUaq1KpqFKpJPtFg2LVn691\nS/qJpC5JP5b0ctaLBwcFKJKhf7g3btw4bL/kWy8z2y3pPyVda2YfmNm/SvqFpEVm9q6khdXnwJiV\n3KO4+z01mr7f4FqAwhozJ26lFrX27NnTkjo+++yzlszTTl5//fWmzzFx4sSmjs8hLEAAQQECCAoQ\nQFCAAIICBBAUIICgAAEEBQgYMwuOKa26OuPll1/eknlaJXWFxjfeeCM5xoMPPtiocmq69dZbmzo+\nexQggKAAAQQFCCAoQABBAQIIChBAUICAcbOO0ipFuZtWav1Dkg4cOJDss3z58sz2Tz75JFxTLZG7\nlPX09GS233333bnryMIeBQggKEAAQQECCAoQQFCAAIICBBAUIICgAAEWWZjKNYGZN3uO8Sj1O92+\nfXtyjPvvv79R5WS69tprM9tfe+215BizZs3KbJ80aVJyjMhisJnJ3S/qyB4FCCAoQABBAQIIChBA\nUIAAggIEEBQgIHnilpltk7REUp+7f6e6bYOkB3T+bsCPuXvzb6vUBiJrRkeOHMls7+zsTI7xxBNP\nZLY//fTTyTEa4fbbb0/22bJlS2b71VdfnbuOZp8wF9mjbJd0xzDbN7n7/OoPIcGYlgyKu78p6dQw\nTcU45xVogTyfUdaa2dtmttXMpjWsIqCA6g3KLyV9093nSTohaVPjSgKKp66rsLj7yUFPt0j6TVb/\ncrk88LhUKqlUKtUzLdBwlUpFlUol2S8aFNOgzyRmNtPdT1SfLpP0p6wXDw4KUCRD/3Bv3Lhx2H6R\nr4d3SypJ6jCzDyRtkPQ9M5sn6StJxyT9NG/BQJElg+Lu9wyzOX2yAzCGcKXIEYgsJu7fvz/Z5957\n781sv/7665NjHDx4MNmnEdavX5/Z/vjjjyfHmDJlSmZ7Ua6umYVDWIAAggIEEBQggKAAAQQFCCAo\nQABBAQIIChDAlSIHSdX57LPPJsdYs2ZNo8rJZerUqck+qTMPJWnFihW5a2mHBcWvcaVIIAeCAgQQ\nFCCAoAABBAUIIChAAEEBAsbNOkqkhl27dmW233fffY0qJ9PKlSuTfY4ePZrZ/vzzzyfHuOGGG5J9\n2mkNpBFYRwFyIChAAEEBAggKEEBQgACCAgQQFCCAoAABY2bBMTXHoUOHkmPcdNNNme1nzpwZUU21\nrFq1KrN98+bNyTG+/PLLzPYrr7wyOcZ4W0yMYMERyIGgAAEEBQggKEAAQQECCAoQQFCAgMg9HOdI\nekFSp/rv2bjF3Teb2RWSfi3pKvXfx3G5u3/axFpzefLJJ5N9GrFOklqLkaSurq7M9smTJyfHSPVh\njaSxInuUv0la5+7flnSTpDVm9i1Jj0ja7+7XSTog6dHmlQmMrmRQ3P2Eu79dffy5pMOS5khaKmlH\ntdsOSXc1q0hgtI3oM4qZzZU0T9J/Sep09z6pP0ySZjS6OKAowkExs6mS9kr6WXXPMvTgqtG/ggTQ\nJKHbZ5vZJeoPyU53f7m6uc/MOt29z8xmSvpLrdeXy+WBx6VSSaVSqe6CgUaqVCqqVCrJfqGjh83s\nBUl/dfd1g7Z1SfrE3bvMbL2kK9z9kWFeW4ijh1P3dpek3bt3564j8q1Xd3d3ZntHR0fuOvjWqz61\njh6OfD18i6QfSfqjmR1S/1usxyR1Sfp3M1sl6X1JyxtbMlAcyaC4+28lTazR/P3GlgMUU1ucuBV5\nfW9vb2b7jTfemKuGqLfeeivZJ1ULb5tGDyduATkQFCCAoAABBAUIIChAAEEBAggKEBA61qvZUusk\nmzZtSo7x8MMP565j9erVme3PPfdc7jkk1knaEXsUIICgAAEEBQggKEAAQQECCAoQQFCAAIICBBRi\nwTHlwIEDLZln2bJlme1jbaEwckLc6dOnM9unT5+eHCP1e5s9e3ZyjA8//DDZp5nYowABBAUIIChA\nAEEBAggKEEBQgACCAgQQFCCgEFeKTLVPmECeRyqyOHru3Llkn0YsOKZEFhyPHz+ee54IrhQJ5EBQ\ngACCAgQQFCCAoAABBAUIIChAQOQejnMkvSCpU9JXkp5396fNbIOkB3T+bsCPufvrTasUIxJZH2N9\nKi5yhuPfJK1z97er95r/vZn1VNs2uXv6eqdAm4vc7PSEpBPVx5+b2WFJXy+ljq1zY4EaRrTvNbO5\nkuZJ+u/qprVm9raZbTWzaQ2uDSiMcFCqb7v2SvqZu38u6ZeSvunu89S/x+EtGMas0FVYzOwS9Ydk\np7u/LEnufnJQly2SflPr9eVyeeDx9OnT9dBDD9VTK9BwlUpFlUol2S909LCZvSDpr+6+btC2mdXP\nLzKzn0v6rrvfM8xrLzh6uFwuXxAciaOHx7t2OHo48vXwLZJ+JOmPZnZIkkt6TNI9ZjZP/V8ZH5P0\n04ZWDBRI5Fuv30qaOExTy9ZM5s+f36qpLvDRRx9p1qxZozL3SLVzrTNmzBjFamJacuJWUycAGmy4\nt15NDwowFvApGQggKEBAS4NiZovN7B0ze8/M1rdy7pEys2Nm9j9mdsjMfjfa9QxmZtvMrM/M/nfQ\ntivMbJ+ZvWtm/1GUIyVq1LrBzI6b2R+qP4tHs8aIlgXFzCZI+jdJd0j6tqSVZvatVs1fh68kldz9\nn9x9wWgXM8R29f8eB3tE0n53v07SAUmPtryq4Q1Xq9R/QO386k/hjzpv5R5lgaQj7v6+u5+V9CtJ\nS1s4/0iZCvrW1N3flHRqyOalknZUH++QdFdLi6qhRq1Smx1Q28r/CLMlDb4bzHGdPwq5iFxSj5n1\nmtkDo11MwAx375MGjvgu+uJEWx1QW8i/mAVxi7vPl/QvktaY2a2jXdAIFfl7/7Y7oLaVQfmzpG8M\nej6nuq2Q3P3j6r8nJb2k/reORdZnZp1S/3F4On/maeG4+8lBBwBukfTd0awnopVB6ZV0jZldZWb/\nIOmHkrpbOH+YmU2unlYgM5si6QeS/jS6VV3EdOH7/G5JP6k+/rGkl1tdUIYLaq0G+WvLVLzf7UVa\ndrNTdz9nZmsl7VN/QLe5++FWzT9CnZJeqh5+c4mkXe6+b5RrGmBmuyWVJHWY2QeSNkj6haQXzWyV\npPclLR+9Cs+rUev32u2AWg5hAQL4MA8EEBQggKAAAQQFCCAoQABBAQIIChBAUICAvwP3id0lGM6R\ndAAAAABJRU5ErkJggg==\n",
      "text/plain": [
       "<matplotlib.figure.Figure at 0x11b162550>"
      ]
     },
     "metadata": {},
     "output_type": "display_data"
    }
   ],
   "source": [
    "rank_images, rank_labels = gen_rank_samples('res/cards/rank', 50)\n",
    "img = rank_images[47]\n",
    "plt.imshow(img, interpolation='none')"
=======
       "dtype('float32')"
      ]
     },
     "execution_count": 58,
     "metadata": {},
     "output_type": "execute_result"
    }
   ],
   "source": [
    "images, labels, vocabulary = gen_rank_samples('res/cards/rank', 10)\n",
    "idx = np.asarray(labels)\n",
    "l = np.zeros((len(labels), len(vocabulary)), dtype=np.float32)\n",
    "l[np.arange(len(labels)), idx] = 1\n",
    "l.dtype"
>>>>>>> e36e5d7a2d0134564559d86c9f1da452fd9e83bb
   ]
  },
  {
   "cell_type": "code",
<<<<<<< HEAD
   "execution_count": 380,
   "metadata": {
    "collapsed": false
   },
   "outputs": [
    {
     "data": {
      "text/plain": [
       "('K',\n",
       " 'K',\n",
       " 'J',\n",
       " 'J',\n",
       " '8',\n",
       " '8',\n",
       " '9',\n",
       " '9',\n",
       " '4',\n",
       " '4',\n",
       " 'T',\n",
       " 'T',\n",
       " '5',\n",
       " '5',\n",
       " '7',\n",
       " '7',\n",
       " 'A',\n",
       " 'A',\n",
       " '6',\n",
       " '6',\n",
       " '2',\n",
       " '2',\n",
       " '3',\n",
       " '3',\n",
       " 'Q',\n",
       " 'Q',\n",
       " 'K',\n",
       " 'K',\n",
       " 'J',\n",
       " 'J',\n",
       " '8',\n",
       " '8',\n",
       " '9',\n",
       " '9',\n",
       " '4',\n",
       " '4',\n",
       " 'T',\n",
       " 'T',\n",
       " '5',\n",
       " '5',\n",
       " '7',\n",
       " '7',\n",
       " 'A',\n",
       " 'A',\n",
       " '6',\n",
       " '6',\n",
       " '2',\n",
       " '2',\n",
       " '3',\n",
       " '3')"
      ]
     },
     "execution_count": 380,
     "metadata": {},
     "output_type": "execute_result"
    }
   ],
   "source": [
    "rank_labels"
   ]
=======
   "execution_count": 75,
   "metadata": {},
   "outputs": [],
   "source": [
    "def card_rank_model_fn(features, labels, mode):\n",
    "    x = tf.placeholder(tf.float32, [None, 520])\n",
    "    W = tf.Variable(tf.zeros([520, 13]))\n",
    "    b = tf.Variable(tf.zeros([13]))\n",
    "    y = tf.nn.softmax(tf.matmul(features['image'], W) + b)\n",
    "    \n",
    "    y_target = tf.placeholder(tf.float32, [None, 13])\n",
    "    cross_entropy = tf.reduce_mean(-tf.reduce_sum(labels * tf.log(y), reduction_indices=[1]))\n",
    "    \n",
    "    optimizer = tf.train.GradientDescentOptimizer(0.005)\n",
    "    train_step = optimizer.minimize(cross_entropy)\n",
    "\n",
    "    return tf.estimator.EstimatorSpec(\n",
    "        mode=mode,\n",
    "        predictions=y,\n",
    "        loss=cross_entropy,\n",
    "        train_op=train_step\n",
    "    )\n",
    "\n",
    "def card_rank_train_input_fn(steps, batch_count, batch_size):\n",
    "    count = steps * batch_count * batch_size\n",
    "    images, labels, vocabulary = gen_rank_samples('res/cards/rank', count)\n",
    "    asarray = lambda img: np.asarray(img.getdata(), dtype=np.float32)\n",
    "    features = {\n",
    "        'image': np.vstack([asarray(img) for img in images])\n",
    "    }\n",
    "    \n",
    "    idx = np.asarray(labels)\n",
    "    labels = np.zeros((len(labels), len(vocabulary)), dtype=np.float32)\n",
    "    labels[np.arange(len(labels)), idx] = 1\n",
    "    \n",
    "    print(labels)\n",
    "    \n",
    "    dataset = tf.data.Dataset.from_tensor_slices((dict(features), labels))\n",
    "    dataset = dataset.shuffle(1000).batch(batch_size)\n",
    "    \n",
    "    return dataset.make_one_shot_iterator().get_next()\n",
    "\n",
    "def card_rank_eval_input_fn():\n",
    "    (images, labels) = load_rank_images('res/cards/rank')\n",
    "    asarray = lambda img: np.asarray(img.getdata(), dtype=np.float32)\n",
    "    features = {\n",
    "        'image': np.vstack([asarray(img) for img in images])\n",
    "    }\n",
    "    \n",
    "    idx = np.asarray(labels)\n",
    "    labels = np.zeros((len(labels), len(vocabulary)), dtype=np.float32)\n",
    "    labels[np.arange(len(labels)), idx] = 1\n",
    "    \n",
    "    dataset = tf.data.Dataset.from_tensor_slices((dict(features), labels))\n",
    "    \n",
    "    return dataset.make_one_shot_iterator().get_next()"
   ]
  },
  {
   "cell_type": "code",
   "execution_count": 76,
   "metadata": {},
   "outputs": [
    {
     "name": "stdout",
     "output_type": "stream",
     "text": [
      "INFO:tensorflow:Using default config.\n",
      "INFO:tensorflow:Using config: {'_save_checkpoints_secs': 600, '_master': '', '_save_checkpoints_steps': None, '_tf_random_seed': None, '_is_chief': True, '_service': None, '_model_dir': 'models/card_rank', '_task_id': 0, '_session_config': None, '_num_ps_replicas': 0, '_log_step_count_steps': 100, '_num_worker_replicas': 1, '_keep_checkpoint_max': 5, '_cluster_spec': <tensorflow.python.training.server_lib.ClusterSpec object at 0x7f69f0d0f128>, '_keep_checkpoint_every_n_hours': 10000, '_task_type': 'worker', '_save_summary_steps': 100}\n",
      "[[0. 0. 0. ... 0. 0. 0.]\n",
      " [0. 0. 0. ... 0. 0. 0.]\n",
      " [0. 0. 0. ... 0. 0. 0.]\n",
      " ...\n",
      " [0. 0. 0. ... 0. 0. 0.]\n",
      " [0. 0. 1. ... 0. 0. 0.]\n",
      " [0. 0. 1. ... 0. 0. 0.]]\n",
      "INFO:tensorflow:Create CheckpointSaverHook.\n",
      "INFO:tensorflow:Restoring parameters from models/card_rank/model.ckpt-0\n",
      "INFO:tensorflow:Saving checkpoints for 0 into models/card_rank/model.ckpt.\n",
      "ERROR:tensorflow:Model diverged with loss = NaN.\n"
     ]
    },
    {
     "ename": "NanLossDuringTrainingError",
     "evalue": "NaN loss during training.",
     "output_type": "error",
     "traceback": [
      "\u001b[0;31m---------------------------------------------------------------------------\u001b[0m",
      "\u001b[0;31mNanLossDuringTrainingError\u001b[0m                Traceback (most recent call last)",
      "\u001b[0;32m<ipython-input-76-16246550787b>\u001b[0m in \u001b[0;36m<module>\u001b[0;34m()\u001b[0m\n\u001b[1;32m     10\u001b[0m classifier.train(\n\u001b[1;32m     11\u001b[0m     \u001b[0minput_fn\u001b[0m \u001b[0;34m=\u001b[0m \u001b[0;32mlambda\u001b[0m\u001b[0;34m:\u001b[0m \u001b[0mcard_rank_train_input_fn\u001b[0m\u001b[0;34m(\u001b[0m\u001b[0mtrain_steps\u001b[0m\u001b[0;34m,\u001b[0m \u001b[0mtrain_batch_count\u001b[0m\u001b[0;34m,\u001b[0m \u001b[0mtrain_batch_size\u001b[0m\u001b[0;34m)\u001b[0m\u001b[0;34m,\u001b[0m\u001b[0;34m\u001b[0m\u001b[0m\n\u001b[0;32m---> 12\u001b[0;31m     \u001b[0msteps\u001b[0m \u001b[0;34m=\u001b[0m \u001b[0mtrain_steps\u001b[0m\u001b[0;34m\u001b[0m\u001b[0m\n\u001b[0m\u001b[1;32m     13\u001b[0m )\n\u001b[1;32m     14\u001b[0m \u001b[0;34m\u001b[0m\u001b[0m\n",
      "\u001b[0;32m/usr/local/lib/python3.5/dist-packages/tensorflow/python/estimator/estimator.py\u001b[0m in \u001b[0;36mtrain\u001b[0;34m(self, input_fn, hooks, steps, max_steps, saving_listeners)\u001b[0m\n\u001b[1;32m    312\u001b[0m \u001b[0;34m\u001b[0m\u001b[0m\n\u001b[1;32m    313\u001b[0m     \u001b[0msaving_listeners\u001b[0m \u001b[0;34m=\u001b[0m \u001b[0m_check_listeners_type\u001b[0m\u001b[0;34m(\u001b[0m\u001b[0msaving_listeners\u001b[0m\u001b[0;34m)\u001b[0m\u001b[0;34m\u001b[0m\u001b[0m\n\u001b[0;32m--> 314\u001b[0;31m     \u001b[0mloss\u001b[0m \u001b[0;34m=\u001b[0m \u001b[0mself\u001b[0m\u001b[0;34m.\u001b[0m\u001b[0m_train_model\u001b[0m\u001b[0;34m(\u001b[0m\u001b[0minput_fn\u001b[0m\u001b[0;34m,\u001b[0m \u001b[0mhooks\u001b[0m\u001b[0;34m,\u001b[0m \u001b[0msaving_listeners\u001b[0m\u001b[0;34m)\u001b[0m\u001b[0;34m\u001b[0m\u001b[0m\n\u001b[0m\u001b[1;32m    315\u001b[0m     \u001b[0mlogging\u001b[0m\u001b[0;34m.\u001b[0m\u001b[0minfo\u001b[0m\u001b[0;34m(\u001b[0m\u001b[0;34m'Loss for final step: %s.'\u001b[0m\u001b[0;34m,\u001b[0m \u001b[0mloss\u001b[0m\u001b[0;34m)\u001b[0m\u001b[0;34m\u001b[0m\u001b[0m\n\u001b[1;32m    316\u001b[0m     \u001b[0;32mreturn\u001b[0m \u001b[0mself\u001b[0m\u001b[0;34m\u001b[0m\u001b[0m\n",
      "\u001b[0;32m/usr/local/lib/python3.5/dist-packages/tensorflow/python/estimator/estimator.py\u001b[0m in \u001b[0;36m_train_model\u001b[0;34m(self, input_fn, hooks, saving_listeners)\u001b[0m\n\u001b[1;32m    814\u001b[0m         \u001b[0;32mwhile\u001b[0m \u001b[0;32mnot\u001b[0m \u001b[0mmon_sess\u001b[0m\u001b[0;34m.\u001b[0m\u001b[0mshould_stop\u001b[0m\u001b[0;34m(\u001b[0m\u001b[0;34m)\u001b[0m\u001b[0;34m:\u001b[0m\u001b[0;34m\u001b[0m\u001b[0m\n\u001b[1;32m    815\u001b[0m           \u001b[0m_\u001b[0m\u001b[0;34m,\u001b[0m \u001b[0mloss\u001b[0m \u001b[0;34m=\u001b[0m \u001b[0mmon_sess\u001b[0m\u001b[0;34m.\u001b[0m\u001b[0mrun\u001b[0m\u001b[0;34m(\u001b[0m\u001b[0;34m[\u001b[0m\u001b[0mestimator_spec\u001b[0m\u001b[0;34m.\u001b[0m\u001b[0mtrain_op\u001b[0m\u001b[0;34m,\u001b[0m \u001b[0mestimator_spec\u001b[0m\u001b[0;34m.\u001b[0m\u001b[0mloss\u001b[0m\u001b[0;34m]\u001b[0m\u001b[0;34m)\u001b[0m\u001b[0;34m\u001b[0m\u001b[0m\n\u001b[0;32m--> 816\u001b[0;31m       \u001b[0;32mreturn\u001b[0m \u001b[0mloss\u001b[0m\u001b[0;34m\u001b[0m\u001b[0m\n\u001b[0m\u001b[1;32m    817\u001b[0m \u001b[0;34m\u001b[0m\u001b[0m\n\u001b[1;32m    818\u001b[0m   def _evaluate_model(self,\n",
      "\u001b[0;32m/usr/lib/python3.5/contextlib.py\u001b[0m in \u001b[0;36m__exit__\u001b[0;34m(self, type, value, traceback)\u001b[0m\n\u001b[1;32m     75\u001b[0m                 \u001b[0mvalue\u001b[0m \u001b[0;34m=\u001b[0m \u001b[0mtype\u001b[0m\u001b[0;34m(\u001b[0m\u001b[0;34m)\u001b[0m\u001b[0;34m\u001b[0m\u001b[0m\n\u001b[1;32m     76\u001b[0m             \u001b[0;32mtry\u001b[0m\u001b[0;34m:\u001b[0m\u001b[0;34m\u001b[0m\u001b[0m\n\u001b[0;32m---> 77\u001b[0;31m                 \u001b[0mself\u001b[0m\u001b[0;34m.\u001b[0m\u001b[0mgen\u001b[0m\u001b[0;34m.\u001b[0m\u001b[0mthrow\u001b[0m\u001b[0;34m(\u001b[0m\u001b[0mtype\u001b[0m\u001b[0;34m,\u001b[0m \u001b[0mvalue\u001b[0m\u001b[0;34m,\u001b[0m \u001b[0mtraceback\u001b[0m\u001b[0;34m)\u001b[0m\u001b[0;34m\u001b[0m\u001b[0m\n\u001b[0m\u001b[1;32m     78\u001b[0m                 \u001b[0;32mraise\u001b[0m \u001b[0mRuntimeError\u001b[0m\u001b[0;34m(\u001b[0m\u001b[0;34m\"generator didn't stop after throw()\"\u001b[0m\u001b[0;34m)\u001b[0m\u001b[0;34m\u001b[0m\u001b[0m\n\u001b[1;32m     79\u001b[0m             \u001b[0;32mexcept\u001b[0m \u001b[0mStopIteration\u001b[0m \u001b[0;32mas\u001b[0m \u001b[0mexc\u001b[0m\u001b[0;34m:\u001b[0m\u001b[0;34m\u001b[0m\u001b[0m\n",
      "\u001b[0;32m/usr/local/lib/python3.5/dist-packages/tensorflow/python/framework/ops.py\u001b[0m in \u001b[0;36mget_controller\u001b[0;34m(self, default)\u001b[0m\n\u001b[1;32m   4637\u001b[0m     \u001b[0;32mtry\u001b[0m\u001b[0;34m:\u001b[0m\u001b[0;34m\u001b[0m\u001b[0m\n\u001b[1;32m   4638\u001b[0m       \u001b[0mself\u001b[0m\u001b[0;34m.\u001b[0m\u001b[0mstack\u001b[0m\u001b[0;34m.\u001b[0m\u001b[0mappend\u001b[0m\u001b[0;34m(\u001b[0m\u001b[0mdefault\u001b[0m\u001b[0;34m)\u001b[0m\u001b[0;34m\u001b[0m\u001b[0m\n\u001b[0;32m-> 4639\u001b[0;31m       \u001b[0;32myield\u001b[0m \u001b[0mdefault\u001b[0m\u001b[0;34m\u001b[0m\u001b[0m\n\u001b[0m\u001b[1;32m   4640\u001b[0m     \u001b[0;32mfinally\u001b[0m\u001b[0;34m:\u001b[0m\u001b[0;34m\u001b[0m\u001b[0m\n\u001b[1;32m   4641\u001b[0m       \u001b[0;31m# stack may be empty if reset() was called\u001b[0m\u001b[0;34m\u001b[0m\u001b[0;34m\u001b[0m\u001b[0m\n",
      "\u001b[0;32m/usr/local/lib/python3.5/dist-packages/tensorflow/python/estimator/estimator.py\u001b[0m in \u001b[0;36m_train_model\u001b[0;34m(self, input_fn, hooks, saving_listeners)\u001b[0m\n\u001b[1;32m    814\u001b[0m         \u001b[0;32mwhile\u001b[0m \u001b[0;32mnot\u001b[0m \u001b[0mmon_sess\u001b[0m\u001b[0;34m.\u001b[0m\u001b[0mshould_stop\u001b[0m\u001b[0;34m(\u001b[0m\u001b[0;34m)\u001b[0m\u001b[0;34m:\u001b[0m\u001b[0;34m\u001b[0m\u001b[0m\n\u001b[1;32m    815\u001b[0m           \u001b[0m_\u001b[0m\u001b[0;34m,\u001b[0m \u001b[0mloss\u001b[0m \u001b[0;34m=\u001b[0m \u001b[0mmon_sess\u001b[0m\u001b[0;34m.\u001b[0m\u001b[0mrun\u001b[0m\u001b[0;34m(\u001b[0m\u001b[0;34m[\u001b[0m\u001b[0mestimator_spec\u001b[0m\u001b[0;34m.\u001b[0m\u001b[0mtrain_op\u001b[0m\u001b[0;34m,\u001b[0m \u001b[0mestimator_spec\u001b[0m\u001b[0;34m.\u001b[0m\u001b[0mloss\u001b[0m\u001b[0;34m]\u001b[0m\u001b[0;34m)\u001b[0m\u001b[0;34m\u001b[0m\u001b[0m\n\u001b[0;32m--> 816\u001b[0;31m       \u001b[0;32mreturn\u001b[0m \u001b[0mloss\u001b[0m\u001b[0;34m\u001b[0m\u001b[0m\n\u001b[0m\u001b[1;32m    817\u001b[0m \u001b[0;34m\u001b[0m\u001b[0m\n\u001b[1;32m    818\u001b[0m   def _evaluate_model(self,\n",
      "\u001b[0;32m/usr/lib/python3.5/contextlib.py\u001b[0m in \u001b[0;36m__exit__\u001b[0;34m(self, type, value, traceback)\u001b[0m\n\u001b[1;32m     75\u001b[0m                 \u001b[0mvalue\u001b[0m \u001b[0;34m=\u001b[0m \u001b[0mtype\u001b[0m\u001b[0;34m(\u001b[0m\u001b[0;34m)\u001b[0m\u001b[0;34m\u001b[0m\u001b[0m\n\u001b[1;32m     76\u001b[0m             \u001b[0;32mtry\u001b[0m\u001b[0;34m:\u001b[0m\u001b[0;34m\u001b[0m\u001b[0m\n\u001b[0;32m---> 77\u001b[0;31m                 \u001b[0mself\u001b[0m\u001b[0;34m.\u001b[0m\u001b[0mgen\u001b[0m\u001b[0;34m.\u001b[0m\u001b[0mthrow\u001b[0m\u001b[0;34m(\u001b[0m\u001b[0mtype\u001b[0m\u001b[0;34m,\u001b[0m \u001b[0mvalue\u001b[0m\u001b[0;34m,\u001b[0m \u001b[0mtraceback\u001b[0m\u001b[0;34m)\u001b[0m\u001b[0;34m\u001b[0m\u001b[0m\n\u001b[0m\u001b[1;32m     78\u001b[0m                 \u001b[0;32mraise\u001b[0m \u001b[0mRuntimeError\u001b[0m\u001b[0;34m(\u001b[0m\u001b[0;34m\"generator didn't stop after throw()\"\u001b[0m\u001b[0;34m)\u001b[0m\u001b[0;34m\u001b[0m\u001b[0m\n\u001b[1;32m     79\u001b[0m             \u001b[0;32mexcept\u001b[0m \u001b[0mStopIteration\u001b[0m \u001b[0;32mas\u001b[0m \u001b[0mexc\u001b[0m\u001b[0;34m:\u001b[0m\u001b[0;34m\u001b[0m\u001b[0m\n",
      "\u001b[0;32m/usr/local/lib/python3.5/dist-packages/tensorflow/python/framework/ops.py\u001b[0m in \u001b[0;36mdevice\u001b[0;34m(self, device_name_or_function)\u001b[0m\n\u001b[1;32m   4031\u001b[0m     \u001b[0;32mtry\u001b[0m\u001b[0;34m:\u001b[0m\u001b[0;34m\u001b[0m\u001b[0m\n\u001b[1;32m   4032\u001b[0m       \u001b[0mself\u001b[0m\u001b[0;34m.\u001b[0m\u001b[0m_device_function_stack\u001b[0m\u001b[0;34m.\u001b[0m\u001b[0mappend\u001b[0m\u001b[0;34m(\u001b[0m\u001b[0mdevice_function\u001b[0m\u001b[0;34m)\u001b[0m\u001b[0;34m\u001b[0m\u001b[0m\n\u001b[0;32m-> 4033\u001b[0;31m       \u001b[0;32myield\u001b[0m\u001b[0;34m\u001b[0m\u001b[0m\n\u001b[0m\u001b[1;32m   4034\u001b[0m     \u001b[0;32mfinally\u001b[0m\u001b[0;34m:\u001b[0m\u001b[0;34m\u001b[0m\u001b[0m\n\u001b[1;32m   4035\u001b[0m       \u001b[0mself\u001b[0m\u001b[0;34m.\u001b[0m\u001b[0m_device_function_stack\u001b[0m\u001b[0;34m.\u001b[0m\u001b[0mpop\u001b[0m\u001b[0;34m(\u001b[0m\u001b[0;34m)\u001b[0m\u001b[0;34m\u001b[0m\u001b[0m\n",
      "\u001b[0;32m/usr/local/lib/python3.5/dist-packages/tensorflow/python/estimator/estimator.py\u001b[0m in \u001b[0;36m_train_model\u001b[0;34m(self, input_fn, hooks, saving_listeners)\u001b[0m\n\u001b[1;32m    813\u001b[0m         \u001b[0mloss\u001b[0m \u001b[0;34m=\u001b[0m \u001b[0;32mNone\u001b[0m\u001b[0;34m\u001b[0m\u001b[0m\n\u001b[1;32m    814\u001b[0m         \u001b[0;32mwhile\u001b[0m \u001b[0;32mnot\u001b[0m \u001b[0mmon_sess\u001b[0m\u001b[0;34m.\u001b[0m\u001b[0mshould_stop\u001b[0m\u001b[0;34m(\u001b[0m\u001b[0;34m)\u001b[0m\u001b[0;34m:\u001b[0m\u001b[0;34m\u001b[0m\u001b[0m\n\u001b[0;32m--> 815\u001b[0;31m           \u001b[0m_\u001b[0m\u001b[0;34m,\u001b[0m \u001b[0mloss\u001b[0m \u001b[0;34m=\u001b[0m \u001b[0mmon_sess\u001b[0m\u001b[0;34m.\u001b[0m\u001b[0mrun\u001b[0m\u001b[0;34m(\u001b[0m\u001b[0;34m[\u001b[0m\u001b[0mestimator_spec\u001b[0m\u001b[0;34m.\u001b[0m\u001b[0mtrain_op\u001b[0m\u001b[0;34m,\u001b[0m \u001b[0mestimator_spec\u001b[0m\u001b[0;34m.\u001b[0m\u001b[0mloss\u001b[0m\u001b[0;34m]\u001b[0m\u001b[0;34m)\u001b[0m\u001b[0;34m\u001b[0m\u001b[0m\n\u001b[0m\u001b[1;32m    816\u001b[0m       \u001b[0;32mreturn\u001b[0m \u001b[0mloss\u001b[0m\u001b[0;34m\u001b[0m\u001b[0m\n\u001b[1;32m    817\u001b[0m \u001b[0;34m\u001b[0m\u001b[0m\n",
      "\u001b[0;32m/usr/local/lib/python3.5/dist-packages/tensorflow/python/training/monitored_session.py\u001b[0m in \u001b[0;36mrun\u001b[0;34m(self, fetches, feed_dict, options, run_metadata)\u001b[0m\n\u001b[1;32m    537\u001b[0m                           \u001b[0mfeed_dict\u001b[0m\u001b[0;34m=\u001b[0m\u001b[0mfeed_dict\u001b[0m\u001b[0;34m,\u001b[0m\u001b[0;34m\u001b[0m\u001b[0m\n\u001b[1;32m    538\u001b[0m                           \u001b[0moptions\u001b[0m\u001b[0;34m=\u001b[0m\u001b[0moptions\u001b[0m\u001b[0;34m,\u001b[0m\u001b[0;34m\u001b[0m\u001b[0m\n\u001b[0;32m--> 539\u001b[0;31m                           run_metadata=run_metadata)\n\u001b[0m\u001b[1;32m    540\u001b[0m \u001b[0;34m\u001b[0m\u001b[0m\n\u001b[1;32m    541\u001b[0m   \u001b[0;32mdef\u001b[0m \u001b[0mrun_step_fn\u001b[0m\u001b[0;34m(\u001b[0m\u001b[0mself\u001b[0m\u001b[0;34m,\u001b[0m \u001b[0mstep_fn\u001b[0m\u001b[0;34m)\u001b[0m\u001b[0;34m:\u001b[0m\u001b[0;34m\u001b[0m\u001b[0m\n",
      "\u001b[0;32m/usr/local/lib/python3.5/dist-packages/tensorflow/python/training/monitored_session.py\u001b[0m in \u001b[0;36mrun\u001b[0;34m(self, fetches, feed_dict, options, run_metadata)\u001b[0m\n\u001b[1;32m   1011\u001b[0m                               \u001b[0mfeed_dict\u001b[0m\u001b[0;34m=\u001b[0m\u001b[0mfeed_dict\u001b[0m\u001b[0;34m,\u001b[0m\u001b[0;34m\u001b[0m\u001b[0m\n\u001b[1;32m   1012\u001b[0m                               \u001b[0moptions\u001b[0m\u001b[0;34m=\u001b[0m\u001b[0moptions\u001b[0m\u001b[0;34m,\u001b[0m\u001b[0;34m\u001b[0m\u001b[0m\n\u001b[0;32m-> 1013\u001b[0;31m                               run_metadata=run_metadata)\n\u001b[0m\u001b[1;32m   1014\u001b[0m       \u001b[0;32mexcept\u001b[0m \u001b[0m_PREEMPTION_ERRORS\u001b[0m \u001b[0;32mas\u001b[0m \u001b[0me\u001b[0m\u001b[0;34m:\u001b[0m\u001b[0;34m\u001b[0m\u001b[0m\n\u001b[1;32m   1015\u001b[0m         logging.info('An error was raised. This may be due to a preemption in '\n",
      "\u001b[0;32m/usr/local/lib/python3.5/dist-packages/tensorflow/python/training/monitored_session.py\u001b[0m in \u001b[0;36mrun\u001b[0;34m(self, *args, **kwargs)\u001b[0m\n\u001b[1;32m   1102\u001b[0m         \u001b[0;32mraise\u001b[0m \u001b[0msix\u001b[0m\u001b[0;34m.\u001b[0m\u001b[0mreraise\u001b[0m\u001b[0;34m(\u001b[0m\u001b[0;34m*\u001b[0m\u001b[0moriginal_exc_info\u001b[0m\u001b[0;34m)\u001b[0m\u001b[0;34m\u001b[0m\u001b[0m\n\u001b[1;32m   1103\u001b[0m       \u001b[0;32melse\u001b[0m\u001b[0;34m:\u001b[0m\u001b[0;34m\u001b[0m\u001b[0m\n\u001b[0;32m-> 1104\u001b[0;31m         \u001b[0;32mraise\u001b[0m \u001b[0msix\u001b[0m\u001b[0;34m.\u001b[0m\u001b[0mreraise\u001b[0m\u001b[0;34m(\u001b[0m\u001b[0;34m*\u001b[0m\u001b[0moriginal_exc_info\u001b[0m\u001b[0;34m)\u001b[0m\u001b[0;34m\u001b[0m\u001b[0m\n\u001b[0m\u001b[1;32m   1105\u001b[0m \u001b[0;34m\u001b[0m\u001b[0m\n\u001b[1;32m   1106\u001b[0m \u001b[0;34m\u001b[0m\u001b[0m\n",
      "\u001b[0;32m~/.local/lib/python3.5/site-packages/six.py\u001b[0m in \u001b[0;36mreraise\u001b[0;34m(tp, value, tb)\u001b[0m\n\u001b[1;32m    691\u001b[0m             \u001b[0;32mif\u001b[0m \u001b[0mvalue\u001b[0m\u001b[0;34m.\u001b[0m\u001b[0m__traceback__\u001b[0m \u001b[0;32mis\u001b[0m \u001b[0;32mnot\u001b[0m \u001b[0mtb\u001b[0m\u001b[0;34m:\u001b[0m\u001b[0;34m\u001b[0m\u001b[0m\n\u001b[1;32m    692\u001b[0m                 \u001b[0;32mraise\u001b[0m \u001b[0mvalue\u001b[0m\u001b[0;34m.\u001b[0m\u001b[0mwith_traceback\u001b[0m\u001b[0;34m(\u001b[0m\u001b[0mtb\u001b[0m\u001b[0;34m)\u001b[0m\u001b[0;34m\u001b[0m\u001b[0m\n\u001b[0;32m--> 693\u001b[0;31m             \u001b[0;32mraise\u001b[0m \u001b[0mvalue\u001b[0m\u001b[0;34m\u001b[0m\u001b[0m\n\u001b[0m\u001b[1;32m    694\u001b[0m         \u001b[0;32mfinally\u001b[0m\u001b[0;34m:\u001b[0m\u001b[0;34m\u001b[0m\u001b[0m\n\u001b[1;32m    695\u001b[0m             \u001b[0mvalue\u001b[0m \u001b[0;34m=\u001b[0m \u001b[0;32mNone\u001b[0m\u001b[0;34m\u001b[0m\u001b[0m\n",
      "\u001b[0;32m/usr/local/lib/python3.5/dist-packages/tensorflow/python/training/monitored_session.py\u001b[0m in \u001b[0;36mrun\u001b[0;34m(self, *args, **kwargs)\u001b[0m\n\u001b[1;32m   1087\u001b[0m   \u001b[0;32mdef\u001b[0m \u001b[0mrun\u001b[0m\u001b[0;34m(\u001b[0m\u001b[0mself\u001b[0m\u001b[0;34m,\u001b[0m \u001b[0;34m*\u001b[0m\u001b[0margs\u001b[0m\u001b[0;34m,\u001b[0m \u001b[0;34m**\u001b[0m\u001b[0mkwargs\u001b[0m\u001b[0;34m)\u001b[0m\u001b[0;34m:\u001b[0m\u001b[0;34m\u001b[0m\u001b[0m\n\u001b[1;32m   1088\u001b[0m     \u001b[0;32mtry\u001b[0m\u001b[0;34m:\u001b[0m\u001b[0;34m\u001b[0m\u001b[0m\n\u001b[0;32m-> 1089\u001b[0;31m       \u001b[0;32mreturn\u001b[0m \u001b[0mself\u001b[0m\u001b[0;34m.\u001b[0m\u001b[0m_sess\u001b[0m\u001b[0;34m.\u001b[0m\u001b[0mrun\u001b[0m\u001b[0;34m(\u001b[0m\u001b[0;34m*\u001b[0m\u001b[0margs\u001b[0m\u001b[0;34m,\u001b[0m \u001b[0;34m**\u001b[0m\u001b[0mkwargs\u001b[0m\u001b[0;34m)\u001b[0m\u001b[0;34m\u001b[0m\u001b[0m\n\u001b[0m\u001b[1;32m   1090\u001b[0m     \u001b[0;32mexcept\u001b[0m \u001b[0m_PREEMPTION_ERRORS\u001b[0m\u001b[0;34m:\u001b[0m\u001b[0;34m\u001b[0m\u001b[0m\n\u001b[1;32m   1091\u001b[0m       \u001b[0;32mraise\u001b[0m\u001b[0;34m\u001b[0m\u001b[0m\n",
      "\u001b[0;32m/usr/local/lib/python3.5/dist-packages/tensorflow/python/training/monitored_session.py\u001b[0m in \u001b[0;36mrun\u001b[0;34m(self, fetches, feed_dict, options, run_metadata)\u001b[0m\n\u001b[1;32m   1167\u001b[0m               \u001b[0mresults\u001b[0m\u001b[0;34m=\u001b[0m\u001b[0moutputs\u001b[0m\u001b[0;34m[\u001b[0m\u001b[0mhook\u001b[0m\u001b[0;34m]\u001b[0m \u001b[0;32mif\u001b[0m \u001b[0mhook\u001b[0m \u001b[0;32min\u001b[0m \u001b[0moutputs\u001b[0m \u001b[0;32melse\u001b[0m \u001b[0;32mNone\u001b[0m\u001b[0;34m,\u001b[0m\u001b[0;34m\u001b[0m\u001b[0m\n\u001b[1;32m   1168\u001b[0m               \u001b[0moptions\u001b[0m\u001b[0;34m=\u001b[0m\u001b[0moptions\u001b[0m\u001b[0;34m,\u001b[0m\u001b[0;34m\u001b[0m\u001b[0m\n\u001b[0;32m-> 1169\u001b[0;31m               run_metadata=run_metadata))\n\u001b[0m\u001b[1;32m   1170\u001b[0m     \u001b[0mself\u001b[0m\u001b[0;34m.\u001b[0m\u001b[0m_should_stop\u001b[0m \u001b[0;34m=\u001b[0m \u001b[0mself\u001b[0m\u001b[0;34m.\u001b[0m\u001b[0m_should_stop\u001b[0m \u001b[0;32mor\u001b[0m \u001b[0mrun_context\u001b[0m\u001b[0;34m.\u001b[0m\u001b[0mstop_requested\u001b[0m\u001b[0;34m\u001b[0m\u001b[0m\n\u001b[1;32m   1171\u001b[0m \u001b[0;34m\u001b[0m\u001b[0m\n",
      "\u001b[0;32m/usr/local/lib/python3.5/dist-packages/tensorflow/python/training/basic_session_run_hooks.py\u001b[0m in \u001b[0;36mafter_run\u001b[0;34m(self, run_context, run_values)\u001b[0m\n\u001b[1;32m    603\u001b[0m       \u001b[0;32mif\u001b[0m \u001b[0mself\u001b[0m\u001b[0;34m.\u001b[0m\u001b[0m_fail_on_nan_loss\u001b[0m\u001b[0;34m:\u001b[0m\u001b[0;34m\u001b[0m\u001b[0m\n\u001b[1;32m    604\u001b[0m         \u001b[0mlogging\u001b[0m\u001b[0;34m.\u001b[0m\u001b[0merror\u001b[0m\u001b[0;34m(\u001b[0m\u001b[0mfailure_message\u001b[0m\u001b[0;34m)\u001b[0m\u001b[0;34m\u001b[0m\u001b[0m\n\u001b[0;32m--> 605\u001b[0;31m         \u001b[0;32mraise\u001b[0m \u001b[0mNanLossDuringTrainingError\u001b[0m\u001b[0;34m\u001b[0m\u001b[0m\n\u001b[0m\u001b[1;32m    606\u001b[0m       \u001b[0;32melse\u001b[0m\u001b[0;34m:\u001b[0m\u001b[0;34m\u001b[0m\u001b[0m\n\u001b[1;32m    607\u001b[0m         \u001b[0mlogging\u001b[0m\u001b[0;34m.\u001b[0m\u001b[0mwarning\u001b[0m\u001b[0;34m(\u001b[0m\u001b[0mfailure_message\u001b[0m\u001b[0;34m)\u001b[0m\u001b[0;34m\u001b[0m\u001b[0m\n",
      "\u001b[0;31mNanLossDuringTrainingError\u001b[0m: NaN loss during training."
     ]
    }
   ],
   "source": [
    "classifier = tf.estimator.Estimator(\n",
    "    model_fn = card_rank_model_fn,\n",
    "    model_dir = 'models/card_rank'\n",
    ")\n",
    "\n",
    "train_steps = 5\n",
    "train_batch_count = 10\n",
    "train_batch_size = 10\n",
    "\n",
    "classifier.train(\n",
    "    input_fn = lambda: card_rank_train_input_fn(train_steps, train_batch_count, train_batch_size),\n",
    "    steps = train_steps\n",
    ")\n",
    "\n",
    "metrics = classifier.evaluate(\n",
    "    input_fn = card_rank_eval_input_fn\n",
    ")\n",
    "\n",
    "print('Accuracy: {accuracy:0.3f}'.format(**metrics))"
   ]
  },
  {
   "cell_type": "code",
   "execution_count": null,
   "metadata": {},
   "outputs": [],
   "source": []
>>>>>>> e36e5d7a2d0134564559d86c9f1da452fd9e83bb
  }
 ],
 "metadata": {
  "kernelspec": {
   "display_name": "Python 3",
   "language": "python",
   "name": "python3"
  },
  "language_info": {
   "codemirror_mode": {
    "name": "ipython",
    "version": 3
   },
   "file_extension": ".py",
   "mimetype": "text/x-python",
   "name": "python",
   "nbconvert_exporter": "python",
   "pygments_lexer": "ipython3",
   "version": "3.5.2"
  }
 },
 "nbformat": 4,
 "nbformat_minor": 2
}
