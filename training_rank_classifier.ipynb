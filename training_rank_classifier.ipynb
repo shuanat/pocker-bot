{
 "cells": [
  {
   "cell_type": "code",
   "execution_count": 395,
   "metadata": {
    "collapsed": true
   },
   "outputs": [],
   "source": [
    "%matplotlib inline\n",
    "import matplotlib.pyplot as plt\n",
    "from itertools import cycle, islice, chain, repeat\n",
    "from os import listdir, path\n",
    "from os.path import isfile, join\n",
    "from PIL import Image\n",
    "import numpy as np\n",
    "import math\n",
    "from datetime import datetime\n",
    "from pathos.multiprocessing import cpu_count, ProcessingPool"
   ]
  },
  {
   "cell_type": "code",
   "execution_count": 396,
   "metadata": {
    "collapsed": false
   },
   "outputs": [],
   "source": [
    "def with_white_bg(image):\n",
    "    white_bg = Image.new(mode='RGBA', size=image.size, color='white')\n",
    "    white_bg.paste(image, mask=image)\n",
    "    return white_bg\n",
    "\n",
    "\n",
    "def red(image):\n",
    "    arr = np.asarray(image).copy()\n",
    "    rgb = arr[:,:,1:3]\n",
    "    arr[:,:,1:3][np.where(rgb == 255)] = 0\n",
    "    red_rank = Image.fromarray(arr)\n",
    "    return with_white_bg(red_rank)\n",
    "\n",
    "\n",
    "def black(image):\n",
    "    arr = np.asarray(image).copy()\n",
    "    rgb = arr[:,:,0:3]\n",
    "    arr[:,:,0:3][np.where(rgb == 255)] = 0\n",
    "    black_rank = Image.fromarray(arr)\n",
    "    return with_white_bg(black_rank)\n",
    "\n",
    "\n",
    "def load_rank_images(rank_images_dir):\n",
    "    for name in listdir(rank_images_dir):\n",
    "        full_path = join(rank_images_dir, name)\n",
    "        if not isfile(full_path):\n",
    "            continue\n",
    "\n",
    "        rank = path.splitext(path.basename(full_path))[0]\n",
    "        image = Image.open(full_path)\n",
    "        red_image = red(image)\n",
    "        black_image = black(image)\n",
    "\n",
    "        yield (red_image, rank)\n",
    "        yield (black_image, rank)\n",
    "\n",
    "\n",
    "def warp(img, angle, center, new_center, scale):\n",
    "    angle = -angle/180.0*math.pi\n",
    "    nx,ny = x,y = center\n",
    "    sx=sy=1.0\n",
    "    (nx,ny) = new_center\n",
    "    (sx,sy) = scale\n",
    "    cosine = math.cos(angle)\n",
    "    sine = math.sin(angle)\n",
    "    a = cosine/sx\n",
    "    b = sine/sx\n",
    "    c = x-nx*a-ny*b\n",
    "    d = -sine/sy\n",
    "    e = cosine/sy\n",
    "    f = y-nx*d-ny*e\n",
    "    \n",
    "    img = img.transform(img.size, Image.AFFINE, (a,b,c,d,e,f))\n",
    "    bg = Image.new('RGB', img.size, 'white')\n",
    "    \n",
    "    return Image.composite(img, bg, img)\n",
    "\n",
    "\n",
    "def warp_rnd(image, level=1):\n",
    "    r = lambda v: v * (.5 - np.random.rand()) * 2 * level\n",
    "    width, height = image.size\n",
    "    \n",
    "    angle = r(90)\n",
    "    center = width/2 + r(width/4), height/2 + r(height/4)\n",
    "    new_center = width/2 + r(width/4), height/2 + r(height/4)\n",
    "    scale = 1 + r(.5), 1 + r(.5)\n",
    "    \n",
    "    return warp(image, angle, center, new_center, scale)\n",
    "\n",
    "\n",
    "def gen_rank_samples(rank_images_dir, count, rnd_level=.2):\n",
    "    samples = list(load_rank_images('res/cards/rank'))\n",
    "    samples = [(warp_rnd(image, rnd_level), label) for (image, label) in islice(cycle(samples), 0, count)]\n",
    "    images, labels = zip(*samples)\n",
    "    return images, labels"
   ]
  },
  {
   "cell_type": "code",
   "execution_count": 397,
   "metadata": {
    "collapsed": false
   },
   "outputs": [
    {
     "data": {
      "text/plain": [
       "<matplotlib.image.AxesImage at 0x11b36a550>"
      ]
     },
     "execution_count": 397,
     "metadata": {},
     "output_type": "execute_result"
    },
    {
     "data": {
      "image/png": "[encoded data removed]",
      "text/plain": [
       "<matplotlib.figure.Figure at 0x11b162550>"
      ]
     },
     "metadata": {},
     "output_type": "display_data"
    }
   ],
   "source": [
    "rank_images, rank_labels = gen_rank_samples('res/cards/rank', 50)\n",
    "img = rank_images[47]\n",
    "plt.imshow(img, interpolation='none')"
   ]
  },
  {
   "cell_type": "code",
   "execution_count": 380,
   "metadata": {
    "collapsed": false
   },
   "outputs": [
    {
     "data": {
      "text/plain": [
       "('K',\n",
       " 'K',\n",
       " 'J',\n",
       " 'J',\n",
       " '8',\n",
       " '8',\n",
       " '9',\n",
       " '9',\n",
       " '4',\n",
       " '4',\n",
       " 'T',\n",
       " 'T',\n",
       " '5',\n",
       " '5',\n",
       " '7',\n",
       " '7',\n",
       " 'A',\n",
       " 'A',\n",
       " '6',\n",
       " '6',\n",
       " '2',\n",
       " '2',\n",
       " '3',\n",
       " '3',\n",
       " 'Q',\n",
       " 'Q',\n",
       " 'K',\n",
       " 'K',\n",
       " 'J',\n",
       " 'J',\n",
       " '8',\n",
       " '8',\n",
       " '9',\n",
       " '9',\n",
       " '4',\n",
       " '4',\n",
       " 'T',\n",
       " 'T',\n",
       " '5',\n",
       " '5',\n",
       " '7',\n",
       " '7',\n",
       " 'A',\n",
       " 'A',\n",
       " '6',\n",
       " '6',\n",
       " '2',\n",
       " '2',\n",
       " '3',\n",
       " '3')"
      ]
     },
     "execution_count": 380,
     "metadata": {},
     "output_type": "execute_result"
    }
   ],
   "source": [
    "rank_labels"
   ]
  }
 ],
 "metadata": {
  "kernelspec": {
   "display_name": "Python 2",
   "language": "python",
   "name": "python2"
  },
  "language_info": {
   "codemirror_mode": {
    "name": "ipython",
    "version": 2
   },
   "file_extension": ".py",
   "mimetype": "text/x-python",
   "name": "python",
   "nbconvert_exporter": "python",
   "pygments_lexer": "ipython2",
   "version": "2.7.12"
  }
 },
 "nbformat": 4,
 "nbformat_minor": 2
}
