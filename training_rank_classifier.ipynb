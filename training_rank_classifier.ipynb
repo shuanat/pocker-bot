{
 "cells": [
  {
   "cell_type": "code",
   "execution_count": 3,
   "metadata": {
    "collapsed": true
   },
   "outputs": [],
   "source": [
    "%matplotlib inline\n",
    "import matplotlib.pyplot as plt\n",
    "from itertools import cycle, islice, chain, repeat\n",
    "from os import listdir, path\n",
    "from os.path import isfile, join\n",
    "from PIL import Image\n",
    "import numpy as np\n",
    "import math\n",
    "from datetime import datetime\n",
    "from pathos.multiprocessing import cpu_count, ProcessingPool"
   ]
  },
  {
   "cell_type": "code",
   "execution_count": 27,
   "metadata": {
    "collapsed": false
   },
   "outputs": [],
   "source": [
    "def red(image):\n",
    "    image = image.convert('RGBA')\n",
    "    arr = np.asarray(image).copy()\n",
    "    rgb = arr[:,:,1:3]\n",
    "    arr[:,:,1:3][np.where(rgb == 255)] = 0\n",
    "    red_image = Image.new(mode='RGBA', size=image.size, color=1)\n",
    "    red_image.paste(Image.fromarray(arr))\n",
    "    \n",
    "    return red_image\n",
    "\n",
    "\n",
    "def black(image):\n",
    "    image = image.convert('RGBA')\n",
    "    arr = np.asarray(image).copy()\n",
    "    rgb = arr[:,:,0:3]\n",
    "    arr[:,:,0:3][np.where(rgb == 255)] = 0\n",
    "    red_image = Image.new(mode='RGBA', size=image.size, color=1)\n",
    "    red_image.paste(Image.fromarray(arr))\n",
    "    \n",
    "    return red_image\n",
    "\n",
    "\n",
    "def load_rank_samples(rank_images_dir):\n",
    "    for name in listdir(rank_images_dir):\n",
    "        full_path = join(rank_images_dir, name)\n",
    "        if not isfile(full_path):\n",
    "            continue\n",
    "\n",
    "        rank = path.splitext(path.basename(full_path))[0]\n",
    "        image = Image.open(full_path)\n",
    "        red_image = red(image)\n",
    "        black_image = black(image)\n",
    "\n",
    "        yield (red_image, rank)\n",
    "        yield (black_image, rank)\n",
    "\n",
    "\n",
    "def warp(image, angle, center, new_center, scale):\n",
    "    angle = -angle/180.0*math.pi\n",
    "    nx,ny = x,y = center\n",
    "    sx=sy=1.0\n",
    "    (nx,ny) = new_center\n",
    "    (sx,sy) = scale\n",
    "    cosine = math.cos(angle)\n",
    "    sine = math.sin(angle)\n",
    "    a = cosine/sx\n",
    "    b = sine/sx\n",
    "    c = x-nx*a-ny*b\n",
    "    d = -sine/sy\n",
    "    e = cosine/sy\n",
    "    f = y-nx*d-ny*e\n",
    "    \n",
    "    return image.transform(image.size, Image.AFFINE, (a,b,c,d,e,f))\n",
    "\n",
    "\n",
    "def warp_rnd(image, rnd_level=.2):\n",
    "    r = lambda v: v * (.5 - np.random.rand())\n",
    "    width, height = image.size\n",
    "    \n",
    "    angle = r(20)\n",
    "    center = width/2 + r(width/10), height/2 + r(height/10)\n",
    "    new_center = width/2 + r(width/20), height/2 + r(height/20)\n",
    "    scale = 1 + r(.3), 1 + r(.3)\n",
    "    \n",
    "    return warp(image, angle, center, new_center, scale)\n",
    "\n",
    "\n",
    "def gen_rank_samples(rank_images_dir, count, rnd_level=.2):\n",
    "    samples = list(load_rank_samples('res/cards/rank'))\n",
    "    samples = [(warp_rnd(image, rnd_level), label) for (image, label) in islice(cycle(samples), 0, count)]\n",
    "    images, labels = zip(*samples)\n",
    "    return images, labels\n",
    "\n",
    "\n",
    "def gen_rank_samples_mp(rank_images_dir, count, rnd_level=.2):\n",
    "    pool = ProcessingPool(8)\n",
    "    for (img, rank) in load_rank_samples('res/cards/rank'):\n",
    "        images = pool.map(lambda i: warp_rnd(img), range(0, count/26))\n",
    "        labels = repeat(rank, count/26)"
   ]
  },
  {
   "cell_type": "code",
   "execution_count": 28,
   "metadata": {
    "collapsed": false
   },
   "outputs": [
    {
     "name": "stdout",
     "output_type": "stream",
     "text": [
      "ST Elapsed: 0:00:02.168001\n",
      "MP Elapsed: 0:00:04.700853\n"
     ]
    }
   ],
   "source": [
    "start = datetime.now()\n",
    "rank_images, rank_labels = gen_rank_samples('res/cards/rank', 50000)\n",
    "finish = datetime.now()\n",
    "print('ST Elapsed: %s' % (finish - start))\n",
    "\n",
    "start = datetime.now()\n",
    "samples = gen_rank_samples_mp('res/cards/rank', 50000)\n",
    "finish = datetime.now()\n",
    "print('MP Elapsed: %s' % (finish - start))"
   ]
  },
  {
   "cell_type": "code",
   "execution_count": 35,
   "metadata": {
    "collapsed": false
   },
   "outputs": [
    {
     "data": {
      "text/plain": [
       "<matplotlib.image.AxesImage at 0x113161690>"
      ]
     },
     "execution_count": 35,
     "metadata": {},
     "output_type": "execute_result"
    },
    {
     "data": {
      "image/png": "[encoded data removed]",
      "text/plain": [
       "<matplotlib.figure.Figure at 0x11396f2d0>"
      ]
     },
     "metadata": {},
     "output_type": "display_data"
    }
   ],
   "source": [
    "rank_images, rank_labels = gen_rank_samples('res/cards/rank', 50)\n",
    "plt.imshow(rank_images[41], interpolation='none')"
   ]
  },
  {
   "cell_type": "code",
   "execution_count": null,
   "metadata": {
    "collapsed": true
   },
   "outputs": [],
   "source": [
    "def preprocess(image):\n",
    "    warped_image = warp(image)\n",
    "    return np.asarray(warped_image)"
   ]
  },
  {
   "cell_type": "code",
   "execution_count": null,
   "metadata": {
    "collapsed": true
   },
   "outputs": [],
   "source": [
    "def card_rank_model_fn(features, labels, mode, params, config):\n",
    "    pass\n",
    "\n",
    "def card_rank_train_input_fn(steps, batch_count, batch_size):\n",
    "    (images, labels) = load_rank_images()\n",
    "    \n",
    "    stop = steps * batch_count * batch_size\n",
    "    \n",
    "    images = [preprocess(image) for image in islice(cycle(images), 0, stop)]\n",
    "    labels = [label for label in islice(cycle(images), 0, stop)]\n",
    "    \n",
    "    return (images, labels)\n",
    "\n",
    "def card_rank_eval_input_fn():\n",
    "    pass"
   ]
  },
  {
   "cell_type": "code",
   "execution_count": null,
   "metadata": {
    "collapsed": true
   },
   "outputs": [],
   "source": [
    "classifier = tf.estimator.Estimator(\n",
    "    model_fn = card_rank_model_fn,\n",
    "    model_dir = 'models/card_rank'\n",
    ")\n",
    "\n",
    "train_steps = 1000\n",
    "train_batch_count = 100\n",
    "train_batch_size = 100\n",
    "\n",
    "classifier.train(\n",
    "    input_fn = lambda: card_rank_train_input_fn(train_steps, train_batch_count, train_batch_size),\n",
    "    steps = train_steps\n",
    ")\n",
    "\n",
    "metrics = classifier.evaluate(\n",
    "    input_fn = card_rank_eval_input_fn\n",
    ")\n",
    "\n",
    "print('Accuracy: {accuracy:0.3f}'.format(**metrics))"
   ]
  },
  {
   "cell_type": "code",
   "execution_count": null,
   "metadata": {
    "collapsed": true
   },
   "outputs": [],
   "source": []
  }
 ],
 "metadata": {
  "kernelspec": {
   "display_name": "Python 2",
   "language": "python",
   "name": "python2"
  },
  "language_info": {
   "codemirror_mode": {
    "name": "ipython",
    "version": 2
   },
   "file_extension": ".py",
   "mimetype": "text/x-python",
   "name": "python",
   "nbconvert_exporter": "python",
   "pygments_lexer": "ipython2",
   "version": "2.7.12"
  }
 },
 "nbformat": 4,
 "nbformat_minor": 2
}
