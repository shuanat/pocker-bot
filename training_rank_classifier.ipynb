{
 "cells": [
  {
   "cell_type": "code",
   "execution_count": 3,
   "metadata": {},
   "outputs": [],
   "source": [
    "from itertools import cycle, islice"
   ]
  },
  {
   "cell_type": "code",
   "execution_count": null,
   "metadata": {},
   "outputs": [],
   "source": [
    "def load_rank_images():\n",
    "    pass\n",
    "\n",
    "def preprocess(image):\n",
    "    warped_image = warp(image)\n",
    "    return np.asarray(warped_image)\n",
    "    "
   ]
  },
  {
   "cell_type": "code",
   "execution_count": null,
   "metadata": {},
   "outputs": [],
   "source": [
    "def card_rank_model_fn(features, labels, mode, params, config):\n",
    "    pass\n",
    "\n",
    "def card_rank_train_input_fn(steps, batch_count, batch_size):\n",
    "    (images, labels) = load_rank_images()\n",
    "    \n",
    "    stop = steps * batch_count * batch_size\n",
    "    \n",
    "    images = [preprocess(image) for image in islice(cycle(images), 0, stop)]\n",
    "    labels = [label for label in islice(cycle(images), 0, stop)]\n",
    "    \n",
    "    return (images, labels)\n",
    "\n",
    "def card_rank_eval_input_fn():\n",
    "    pass"
   ]
  },
  {
   "cell_type": "code",
   "execution_count": null,
   "metadata": {},
   "outputs": [],
   "source": [
    "classifier = tf.estimator.Estimator(\n",
    "    model_fn = card_rank_model_fn,\n",
    "    model_dir = 'models/card_rank'\n",
    ")\n",
    "\n",
    "train_steps = 1000\n",
    "train_batch_count = 100\n",
    "train_batch_size = 100\n",
    "\n",
    "classifier.train(\n",
    "    input_fn = lambda: card_rank_train_input_fn(train_steps, train_batch_count, train_batch_size),\n",
    "    steps = train_steps\n",
    ")\n",
    "\n",
    "metrics = classifier.evaluate(\n",
    "    input_fn = card_rank_eval_input_fn\n",
    ")\n",
    "\n",
    "print('Accuracy: {accuracy:0.3f}'.format(**metrics))"
   ]
  },
  {
   "cell_type": "code",
   "execution_count": null,
   "metadata": {},
   "outputs": [],
   "source": []
  }
 ],
 "metadata": {
  "kernelspec": {
   "display_name": "Python 3",
   "language": "python",
   "name": "python3"
  },
  "language_info": {
   "codemirror_mode": {
    "name": "ipython",
    "version": 3
   },
   "file_extension": ".py",
   "mimetype": "text/x-python",
   "name": "python",
   "nbconvert_exporter": "python",
   "pygments_lexer": "ipython3",
   "version": "3.5.2"
  }
 },
 "nbformat": 4,
 "nbformat_minor": 2
}
