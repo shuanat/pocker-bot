{
 "cells": [
  {
   "cell_type": "code",
   "execution_count": 56,
   "metadata": {
    "collapsed": false
   },
   "outputs": [],
   "source": [
    "%matplotlib inline\n",
    "from deuces import Deck, Card, Evaluator\n",
    "import itertools as it\n",
    "import matplotlib.pyplot as plt\n",
    "import numpy as np\n",
    "import log\n",
    "import operator as op\n",
    "from datetime import timedelta, datetime\n",
    "import pathos.multiprocessing as mp\n",
    "from pathos.multiprocessing import Pool"
   ]
  },
  {
   "cell_type": "code",
   "execution_count": 68,
   "metadata": {
    "collapsed": false
   },
   "outputs": [
    {
     "data": {
      "text/plain": [
       "(50, 'Ah', 'As')"
      ]
     },
     "execution_count": 68,
     "metadata": {},
     "output_type": "execute_result"
    }
   ],
   "source": [
    "evaluator = Evaluator()\n",
    "\n",
    "c0 = Card.new('Ah')\n",
    "c1 = Card.new('As')\n",
    "hand = {c0, c1}\n",
    "cards = set(Deck.GetFullDeck()) - hand\n",
    "\n",
    "len(cards), Card.int_to_str(c0), Card.int_to_str(c1)"
   ]
  },
  {
   "cell_type": "code",
   "execution_count": 70,
   "metadata": {
    "collapsed": false
   },
   "outputs": [
    {
     "data": {
      "text/plain": [
       "(19600, 2118760)"
      ]
     },
     "execution_count": 70,
     "metadata": {},
     "output_type": "execute_result"
    }
   ],
   "source": [
    "my_boards = [list(board) for board in it.combinations(cards, 3)]\n",
    "my_scores = [evaluator.evaluate(board, list(hand)) for board in my_boards]\n",
    "\n",
    "op_boards = [list(board) for board in it.combinations(cards, 5)]\n",
    "op_scores = [evaluator.evaluate(board[:3], board[3:]) for board in op_boards]\n",
    "\n",
    "len(my_scores), len(op_scores)"
   ]
  },
  {
   "cell_type": "code",
   "execution_count": 71,
   "metadata": {
    "collapsed": false
   },
   "outputs": [
    {
     "data": {
      "text/plain": [
       "(100, 100)"
      ]
     },
     "execution_count": 71,
     "metadata": {},
     "output_type": "execute_result"
    }
   ],
   "source": [
    "my_bins, my_edges = np.histogram(my_scores, bins=100)\n",
    "my_bins = np.asarray(my_bins, dtype=np.float32)\n",
    "my_bins = my_bins/len(my_scores)\n",
    "my_edges = np.asarray(my_edges[:-1], dtype=np.float32)\n",
    "\n",
    "op_bins, op_edges = np.histogram(op_scores, bins=100)\n",
    "op_bins = np.asarray(op_bins, dtype=np.float32)\n",
    "op_bins = op_bins/len(op_scores)\n",
    "op_edges = np.asarray(op_edges[:-1], dtype=np.float32)\n",
    "\n",
    "m = max(max(my_edges), max(op_edges))\n",
    "my_edges = my_edges/m\n",
    "op_edges = op_edges/m\n",
    "\n",
    "len(my_bins), len(op_bins)"
   ]
  },
  {
   "cell_type": "code",
   "execution_count": 72,
   "metadata": {
    "collapsed": false
   },
   "outputs": [
    {
     "data": {
      "image/png": "[encoded data removed]",
      "text/plain": [
       "<matplotlib.figure.Figure at 0x10a0e4710>"
      ]
     },
     "metadata": {},
     "output_type": "display_data"
    }
   ],
   "source": [
    "f, (ax1, ax2) = plt.subplots(2, sharex=True, sharey=False, figsize=(20,8))\n",
    "\n",
    "ax1.fill_between(my_edges, my_bins, linewidth=0, interpolate=False)\n",
    "ax1.grid(True)\n",
    "\n",
    "ax2.fill_between(op_edges, op_bins, linewidth=0, color='red', interpolate=False)\n",
    "ax2.invert_yaxis()\n",
    "ax2.grid(True)\n",
    "\n",
    "f.subplots_adjust(hspace=0)"
   ]
  },
  {
   "cell_type": "code",
   "execution_count": null,
   "metadata": {
    "collapsed": false
   },
   "outputs": [],
   "source": [
    "np.median(my_scores), np.median(op_scores)"
   ]
  },
  {
   "cell_type": "code",
   "execution_count": 62,
   "metadata": {
    "collapsed": false
   },
   "outputs": [],
   "source": [
    "card_primes = [2, 3, 5, 7, 11, 13, 17, 19, 23, 29, 31, 37, 41, 43, 47, 53, 59, 61, 67, 71, 73, 79, \n",
    "         83, 89, 97, 101, 103, 107, 109, 113, 127, 131, 137, 139, 149, 151, 157, 163, 167, 173, \n",
    "         179, 181, 191, 193, 197, 199, 211, 223, 227, 229, 233, 239]\n",
    "\n",
    "hands = [reduce(op.mul, hand) for hand in it.combinations(card_primes, 5)]"
   ]
  },
  {
   "cell_type": "code",
   "execution_count": null,
   "metadata": {
    "collapsed": false
   },
   "outputs": [],
   "source": [
    "suits = list('hdcs')\n",
    "ranks = list('A23456789TJQK')\n",
    "card_labels = ['%s%s' % (r, s) for s, r in it.product(suits, ranks)]\n",
    "card_objs = [Card.new(label) for label in card_labels]\n",
    "hand_objs = [hand for hand in it.combinations(card_objs, 5)]\n",
    "hand_rates = [evaluator.evaluate(hand[:3], hand[3:]) for hand in hand_objs]\n",
    "len(card_objs), len(hand_rates)"
   ]
  },
  {
   "cell_type": "code",
   "execution_count": null,
   "metadata": {
    "collapsed": false
   },
   "outputs": [],
   "source": [
    "index = 234687\n",
    "card_indices = [card_primes.index(card) for card in card_primes if hands[index] % card == 0]\n",
    "labels = [card_labels[i] for i in card_indices]\n",
    "cs = [Card.new(l) for l in labels]\n",
    "hand_rates[index], hands[index], card_indices, labels, cs, evaluator.evaluate(cs[:3], cs[3:])"
   ]
  },
  {
   "cell_type": "code",
   "execution_count": null,
   "metadata": {
    "collapsed": false
   },
   "outputs": [],
   "source": [
    "min(hand_rates)"
   ]
  },
  {
   "cell_type": "code",
   "execution_count": null,
   "metadata": {
    "collapsed": true
   },
   "outputs": [],
   "source": [
    "deck = #\n",
    "sample_size = 5 - len(board)\n",
    "\n",
    "space = populate_with_combinations(deck, dims=(2, sample_size), append=board|hand)\n",
    "\n",
    "me = space[...,2:]\n",
    "me = np.apply_along_axis(score, axis=-1)\n",
    "me = np.apply_along_axis(bincount, axis=-1)\n",
    "me = np.median(me)\n",
    "\n",
    "op = space[...,:-2]\n",
    "op = np.apply_along_axis(score, axis=-1)\n",
    "op = np.apply_along_axis(bincount, axis=-1)\n",
    "op = np.median(op)"
   ]
  },
  {
   "cell_type": "code",
   "execution_count": 57,
   "metadata": {
    "collapsed": false,
    "scrolled": true
   },
   "outputs": [
    {
     "name": "stdout",
     "output_type": "stream",
     "text": [
      "(1081, 990) (1081,) 0:00:00.243032\n"
     ]
    }
   ],
   "source": [
    "deck = {13, 17, 19, 23, 29, 31, 37, 41, 43, 47, 53, 59, 61, 67, 71, 73, 79, \n",
    "         83, 89, 97, 101, 103, 107, 109, 113, 127, 131, 137, 139, 149, 151, 157, 163, 167, 173, \n",
    "         179, 181, 191, 193, 197, 199, 211, 223, 227, 229, 233, 239}\n",
    "hand = {2, 3}\n",
    "board = {5, 7, 11}\n",
    "scores = lambda x: 12\n",
    "\n",
    "def mul(iterable):\n",
    "    return reduce(op.mul, iterable)\n",
    "\n",
    "def populate(src, dims, state=1, parallel=True, exclude_dim=True):\n",
    "    dim, dims = dims[0], dims[1:]\n",
    "    \n",
    "    if len(dims) == 0:\n",
    "        return np.asarray([scores(state*mul(c)) for c in it.combinations(src, dim)])\n",
    "    \n",
    "    def populate_predicate(c):\n",
    "        s = state if exclude_dim else state*mul(c)\n",
    "        return populate(src-set(c), dims, s, parallel=False, exclude_dim=False)\n",
    "    \n",
    "    mapper = mp.Pool(mp.cpu_count()).map if parallel else map\n",
    "    a = mapper(populate_predicate, it.combinations(src, dim))\n",
    "    \n",
    "    return np.asarray(a)\n",
    "\n",
    "start = datetime.now()\n",
    "mine = populate(deck, dims=(2,2), state=mul(hand|board), parallel=True, exclude_dim=True)\n",
    "his = populate(deck, dims=(2,), state=mul(board), parallel=True, exclude_dim=False)\n",
    "finish = datetime.now()\n",
    "\n",
    "print mine.shape, his.shape, finish-start"
   ]
  },
  {
   "cell_type": "code",
   "execution_count": 66,
   "metadata": {
    "collapsed": false
   },
   "outputs": [
    {
     "name": "stdout",
     "output_type": "stream",
     "text": [
      "(133784560,) 0:02:10.988472\n"
     ]
    }
   ],
   "source": [
    "start = datetime.now()\n",
    "space = populate(card_primes, dims=(7,), parallel=True, exclude_dim=True)\n",
    "finish = datetime.now()\n",
    "\n",
    "print space.shape, finish-start"
   ]
  },
  {
   "cell_type": "code",
   "execution_count": 67,
   "metadata": {
    "collapsed": false
   },
   "outputs": [
    {
     "data": {
      "text/plain": [
       "array([12, 12, 12, 12, 12, 12, 12, 12, 12, 12])"
      ]
     },
     "execution_count": 67,
     "metadata": {},
     "output_type": "execute_result"
    }
   ],
   "source": [
    "space[:10]"
   ]
  },
  {
   "cell_type": "code",
   "execution_count": null,
   "metadata": {
    "collapsed": true
   },
   "outputs": [],
   "source": []
  }
 ],
 "metadata": {
  "kernelspec": {
   "display_name": "Python 2",
   "language": "python",
   "name": "python2"
  },
  "language_info": {
   "codemirror_mode": {
    "name": "ipython",
    "version": 2
   },
   "file_extension": ".py",
   "mimetype": "text/x-python",
   "name": "python",
   "nbconvert_exporter": "python",
   "pygments_lexer": "ipython2",
   "version": "2.7.12"
  }
 },
 "nbformat": 4,
 "nbformat_minor": 0
}
