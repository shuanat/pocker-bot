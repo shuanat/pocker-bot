{
 "cells": [
  {
   "cell_type": "code",
   "execution_count": 1,
   "metadata": {
    "collapsed": true
   },
   "outputs": [],
   "source": [
    "%matplotlib inline\n",
    "import matplotlib.pyplot as plt\n",
    "from itertools import cycle, islice\n",
    "from os import listdir, path\n",
    "from os.path import isfile, join\n",
    "from PIL import Image\n",
    "import numpy as np\n",
    "import math\n",
    "from datetime import datetime\n",
    "import tensorflow as tf\n",
    "import h5py"
   ]
  },
  {
   "cell_type": "code",
   "execution_count": 2,
   "metadata": {
    "collapsed": false
   },
   "outputs": [],
   "source": [
    "def with_white_bg(img):\n",
    "    white_bg = Image.new(mode=img.mode, size=img.size, color='white')\n",
    "    white_bg.paste(img, mask=img)\n",
    "    return white_bg\n",
    "\n",
    "\n",
    "def red(image):\n",
    "    arr = np.asarray(image).copy()\n",
    "    rgb = arr[:,:,1:3]\n",
    "    arr[:,:,1:3][np.where(rgb == 255)] = 0\n",
    "    red_rank = Image.fromarray(arr)\n",
    "    return with_white_bg(red_rank)\n",
    "\n",
    "\n",
    "def black(image):\n",
    "    arr = np.asarray(image).copy()\n",
    "    rgb = arr[:,:,0:3]\n",
    "    arr[:,:,0:3][np.where(rgb == 255)] = 0\n",
    "    black_rank = Image.fromarray(arr)\n",
    "    return with_white_bg(black_rank)\n",
    "\n",
    "\n",
    "def affine(img, angle, center, new_center, scale):\n",
    "    angle = -angle/180.0*math.pi\n",
    "    nx,ny = x,y = center\n",
    "    sx=sy=1.0\n",
    "    (nx,ny) = new_center\n",
    "    (sx,sy) = scale\n",
    "    cosine = math.cos(angle)\n",
    "    sine = math.sin(angle)\n",
    "    a = cosine/sx\n",
    "    b = sine/sx\n",
    "    c = x-nx*a-ny*b\n",
    "    d = -sine/sy\n",
    "    e = cosine/sy\n",
    "    f = y-nx*d-ny*e\n",
    "    \n",
    "    fff = Image.new(img.mode, img.size, (255,)*len(img.mode))\n",
    "    warped_img = img.transform(img.size, Image.AFFINE, (a,b,c,d,e,f))\n",
    "    img = Image.composite(warped_img, fff, warped_img)\n",
    "    \n",
    "    return img\n",
    "\n",
    "\n",
    "def warp(image, lvl):\n",
    "    r = lambda v: v * (.5 - np.random.rand()) * lvl\n",
    "    width, height = image.size\n",
    "    \n",
    "    angle = r(45)\n",
    "    center = width/2 + r(width/4), height/2 + r(height/4)\n",
    "    new_center = width/2 + r(width/4), height/2 + r(height/4)\n",
    "    scale = 1 + r(.5), 1 + r(.5)\n",
    "    \n",
    "    return affine(image, angle, center, new_center, scale)\n",
    "\n",
    "class Samples(object):\n",
    "    def __init__(self, images_dir, mode='L', warp_lvl=.5, one_hot=True):\n",
    "        self.images_dir = images_dir\n",
    "        self.mode = mode\n",
    "        self.warp_lvl = warp_lvl\n",
    "        self.one_hot = one_hot\n",
    "        \n",
    "        samples = list(self.read_images(images_dir))\n",
    "        self.images, self.labels = zip(*samples)\n",
    "        \n",
    "        self.vocabulary = sorted(list(set(self.labels)))\n",
    "        self.labels = [self.vocabulary.index(lbl) for lbl in self.labels]\n",
    "        \n",
    "        if self.one_hot:\n",
    "            one_hot = np.zeros((len(self.labels), len(self.vocabulary)))\n",
    "            idx = np.arange(len(self.labels))\n",
    "            one_hot[idx, self.labels] = 1\n",
    "            self.labels = one_hot\n",
    "            \n",
    "    def read_images(self, images_dir):\n",
    "        for name in listdir(images_dir):\n",
    "            full_path = join(images_dir, name)\n",
    "            if not isfile(full_path):\n",
    "                continue\n",
    "\n",
    "            label = path.splitext(path.basename(full_path))[0]\n",
    "            image = Image.open(full_path)\n",
    "            red_image = red(image)\n",
    "            black_image = black(image)\n",
    "\n",
    "            yield (red_image, label)\n",
    "            yield (black_image, label)\n",
    "    \n",
    "    def as_array(self, img):\n",
    "        return np.asarray(warp(img, self.warp_lvl).convert(self.mode))/255.\n",
    "\n",
    "    def next_batch(self, count):\n",
    "        idx = np.arange(len(self.images))\n",
    "        idx = list(islice(cycle(idx), 0, count))\n",
    "        np.random.shuffle(idx)\n",
    "        X = np.stack([self.as_array(self.images[i]) for i in idx])\n",
    "        y = self.labels[idx]\n",
    "        return X, y"
   ]
  },
  {
   "cell_type": "code",
   "execution_count": 25,
   "metadata": {
    "collapsed": false
   },
   "outputs": [
    {
     "name": "stdout",
     "output_type": "stream",
     "text": [
      "4\n"
     ]
    },
    {
     "data": {
      "text/plain": [
       "<matplotlib.image.AxesImage at 0x1272d2d90>"
      ]
     },
     "execution_count": 25,
     "metadata": {},
     "output_type": "execute_result"
    },
    {
     "data": {
      "image/png": "[encoded data removed]",
      "text/plain": [
       "<matplotlib.figure.Figure at 0x124152b10>"
      ]
     },
     "metadata": {},
     "output_type": "display_data"
    }
   ],
   "source": [
    "samples = Samples('res/cards/rank')\n",
    "X, y = samples.next_batch(1000)\n",
    "print(samples.vocabulary[y[800].argmax()])\n",
    "plt.imshow(X[800], cmap='gray', interpolation='none')"
   ]
  },
  {
   "cell_type": "code",
   "execution_count": 621,
   "metadata": {
    "collapsed": false
   },
   "outputs": [
    {
     "data": {
      "text/plain": [
       "((1000, 26, 20), (1000, 13))"
      ]
     },
     "execution_count": 621,
     "metadata": {},
     "output_type": "execute_result"
    }
   ],
   "source": [
    "X.shape, y.shape"
   ]
  }
 ],
 "metadata": {
  "kernelspec": {
   "display_name": "Python 2",
   "language": "python",
   "name": "python2"
  },
  "language_info": {
   "codemirror_mode": {
    "name": "ipython",
    "version": 2
   },
   "file_extension": ".py",
   "mimetype": "text/x-python",
   "name": "python",
   "nbconvert_exporter": "python",
   "pygments_lexer": "ipython2",
   "version": "2.7.12"
  }
 },
 "nbformat": 4,
 "nbformat_minor": 2
}
