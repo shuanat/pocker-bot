{
 "cells": [
  {
   "cell_type": "code",
   "execution_count": 1,
   "metadata": {},
   "outputs": [],
   "source": [
    "%matplotlib inline\n",
    "import matplotlib.pyplot as plt\n",
    "import numpy as np\n",
    "import tensorflow as tf\n",
    "from tensorflow.examples.tutorials.mnist import input_data\n",
    "import os"
   ]
  },
  {
   "cell_type": "code",
   "execution_count": 2,
   "metadata": {},
   "outputs": [],
   "source": [
    "train_dir = 'train'"
   ]
  },
  {
   "cell_type": "code",
   "execution_count": 3,
   "metadata": {},
   "outputs": [
    {
     "name": "stdout",
     "output_type": "stream",
     "text": [
      "Extracting MNIST_data/train-images-idx3-ubyte.gz\n",
      "Extracting MNIST_data/train-labels-idx1-ubyte.gz\n",
      "Extracting MNIST_data/t10k-images-idx3-ubyte.gz\n",
      "Extracting MNIST_data/t10k-labels-idx1-ubyte.gz\n"
     ]
    }
   ],
   "source": [
    "mnist = input_data.read_data_sets(\"MNIST_data/\", one_hot=True)"
   ]
  },
  {
   "cell_type": "code",
   "execution_count": null,
   "metadata": {},
   "outputs": [],
   "source": [
    "x = tf.placeholder(tf.float32, [None, 784], name='x')\n",
    "W = tf.Variable(tf.zeros([784, 10]), name='W')\n",
    "b = tf.Variable(tf.zeros([10]), name='b')\n",
    "y = tf.nn.softmax(tf.matmul(x, W) + b, name='y')"
   ]
  },
  {
   "cell_type": "code",
   "execution_count": null,
   "metadata": {},
   "outputs": [],
   "source": [
    "yt = tf.placeholder(tf.float32, [None, 10], name='yt')\n",
    "cross_entropy = tf.reduce_mean(-tf.reduce_sum(yt * tf.log(y), reduction_indices=[1]), name='cross_entropy')\n",
    "train_step = tf.train.GradientDescentOptimizer(0.5).minimize(cross_entropy)\n",
    "\n",
    "correct_prediction = tf.equal(tf.argmax(y,1), tf.argmax(yt,1), name='correct_prediction')\n",
    "accuracy = tf.reduce_mean(tf.cast(correct_prediction, tf.float32), name='accuracy')"
   ]
  },
  {
   "cell_type": "code",
   "execution_count": null,
   "metadata": {},
   "outputs": [],
   "source": [
    "saver = tf.train.Saver(tf.trainable_variables())\n",
    "sess = tf.InteractiveSession()\n",
    "\n",
    "tf.add_to_collection('x', x)\n",
    "tf.add_to_collection('yt', yt)\n",
    "tf.add_to_collection('accuracy', accuracy)"
   ]
  },
  {
   "cell_type": "code",
   "execution_count": null,
   "metadata": {},
   "outputs": [],
   "source": [
    "tf.global_variables_initializer().run()\n",
    "\n",
    "for i in range(1000):\n",
    "    batch_xs, batch_ys = mnist.train.next_batch(100)\n",
    "    sess.run(train_step, feed_dict={x: batch_xs, yt: batch_ys})\n",
    "    if i % 50 == 49:\n",
    "        os.makedirs(train_dir, exist_ok=True)\n",
    "        checkpoint_path = '%s/mnist.ckpt' % train_dir\n",
    "        saver.save(sess, checkpoint_path, global_step=i)"
   ]
  },
  {
   "cell_type": "code",
   "execution_count": 4,
   "metadata": {},
   "outputs": [
    {
     "name": "stdout",
     "output_type": "stream",
     "text": [
      "INFO:tensorflow:Restoring parameters from train/mnist.ckpt-999\n",
      "0.9109\n"
     ]
    }
   ],
   "source": [
    "with tf.Session() as sess:\n",
    "    train_dir = 'train'\n",
    "    latest_checkpoint = tf.train.latest_checkpoint(train_dir)\n",
    "    meta_path = '%s.meta' % latest_checkpoint\n",
    "\n",
    "    saver = tf.train.import_meta_graph(meta_path)\n",
    "    saver.restore(sess, latest_checkpoint)\n",
    "    \n",
    "    x = tf.get_collection('x')[0]\n",
    "    yt = tf.get_collection('yt')[0]\n",
    "    accuracy = tf.get_collection('accuracy')[0]\n",
    "\n",
    "    feed_dict={x: mnist.test.images, yt: mnist.test.labels}\n",
    "\n",
    "    print(sess.run(accuracy, feed_dict))"
   ]
  },
  {
   "cell_type": "code",
   "execution_count": null,
   "metadata": {},
   "outputs": [],
   "source": [
    "num_rows, num_cols = 10, 10\n",
    "width, height = num_cols * 2, num_rows * 2\n",
    "fig = plt.figure(figsize=(width, height))\n",
    "\n",
    "for i in range(0, 100):\n",
    "    ax = fig.add_subplot(num_rows, num_cols, i+1)\n",
    "    ax.set_xticklabels([])\n",
    "    ax.set_yticklabels([])\n",
    "    image = mnist.test.images[i].reshape((28, 28))\n",
    "    label = mnist.test.labels[i].argmax()\n",
    "    prediction = sess.run(y, feed_dict={x: mnist.test.images[i:i+1]}).argmax()\n",
    "    ax.imshow(image, cmap='Greys', interpolation='none')\n",
    "    text = u'%i=%i'%(label, prediction) if label==prediction else u'%i≠%i'%(label, prediction)\n",
    "    color = 'black' if label==prediction else 'red'\n",
    "    ax.text(\n",
    "        0, \n",
    "        0, \n",
    "        text, \n",
    "        bbox={'facecolor':'white', 'pad':5}, \n",
    "        fontdict={'size':14, 'weight': 'bold', 'color': color}\n",
    "    )"
   ]
  },
  {
   "cell_type": "code",
   "execution_count": null,
   "metadata": {},
   "outputs": [],
   "source": []
  }
 ],
 "metadata": {
  "kernelspec": {
   "display_name": "Python 3",
   "language": "python",
   "name": "python3"
  },
  "language_info": {
   "codemirror_mode": {
    "name": "ipython",
    "version": 3
   },
   "file_extension": ".py",
   "mimetype": "text/x-python",
   "name": "python",
   "nbconvert_exporter": "python",
   "pygments_lexer": "ipython3",
   "version": "3.5.2"
  }
 },
 "nbformat": 4,
 "nbformat_minor": 1
}
