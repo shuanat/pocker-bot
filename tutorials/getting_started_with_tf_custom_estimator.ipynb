{
 "cells": [
  {
   "cell_type": "code",
   "execution_count": 1,
   "metadata": {},
   "outputs": [],
   "source": [
    "import tensorflow as tf\n",
    "import numpy as np"
   ]
  },
  {
   "cell_type": "code",
   "execution_count": 3,
   "metadata": {},
   "outputs": [
    {
     "name": "stdout",
     "output_type": "stream",
     "text": [
      "INFO:tensorflow:Using default config.\n",
      "WARNING:tensorflow:Using temporary folder as model directory: /tmp/tmp9j67up9x\n",
      "INFO:tensorflow:Using config: {'_keep_checkpoint_every_n_hours': 10000, '_model_dir': '/tmp/tmp9j67up9x', '_is_chief': True, '_num_ps_replicas': 0, '_keep_checkpoint_max': 5, '_cluster_spec': <tensorflow.python.training.server_lib.ClusterSpec object at 0x7fa62eeaf390>, '_save_summary_steps': 100, '_save_checkpoints_steps': None, '_num_worker_replicas': 1, '_task_id': 0, '_tf_random_seed': None, '_task_type': 'worker', '_service': None, '_master': '', '_save_checkpoints_secs': 600, '_session_config': None, '_log_step_count_steps': 100}\n"
     ]
    }
   ],
   "source": [
    "def model_fn(features, labels, mode):\n",
    "    # Build a linear model and predict values\n",
    "    W = tf.get_variable('W', [1], dtype=tf.float64)\n",
    "    b = tf.get_variable('b', [1], dtype=tf.float64)\n",
    "    y = W*features['x'] + b\n",
    "    # Loss sub-graph\n",
    "    loss = tf.reduce_sum(tf.square(y - labels))\n",
    "    # Training sub-graph\n",
    "    global_step = tf.train.get_global_step()\n",
    "    optimizer = tf.train.GradientDescentOptimizer(0.01)\n",
    "    train = tf.group(\n",
    "        optimizer.minimize(loss),\n",
    "        tf.assign_add(global_step, 1)\n",
    "    )\n",
    "    # Connect sub-graphs we built to an appropriate functionality\n",
    "    return tf.estimator.EstimatorSpec(\n",
    "        mode=mode,\n",
    "        predictions=y,\n",
    "        loss=loss,\n",
    "        train_op=train\n",
    "    )\n",
    "\n",
    "estimator = tf.estimator.Estimator(model_fn=model_fn)"
   ]
  },
  {
   "cell_type": "code",
   "execution_count": 4,
   "metadata": {},
   "outputs": [],
   "source": [
    "# define our data sets\n",
    "x_train = np.array([1., 2., 3., 4.])\n",
    "y_train = np.array([0., -1., -2., -3.])\n",
    "x_eval = np.array([2., 5., 8., 1.])\n",
    "y_eval = np.array([-1.01, -4.1, -7., 0.])\n",
    "input_fn = tf.estimator.inputs.numpy_input_fn(\n",
    "    {\"x\": x_train}, y_train, batch_size=4, num_epochs=None, shuffle=True)\n",
    "train_input_fn = tf.estimator.inputs.numpy_input_fn(\n",
    "    {\"x\": x_train}, y_train, batch_size=4, num_epochs=1000, shuffle=False)\n",
    "eval_input_fn = tf.estimator.inputs.numpy_input_fn(\n",
    "    {\"x\": x_eval}, y_eval, batch_size=4, num_epochs=1000, shuffle=False)"
   ]
  },
  {
   "cell_type": "code",
   "execution_count": 6,
   "metadata": {},
   "outputs": [
    {
     "name": "stdout",
     "output_type": "stream",
     "text": [
      "INFO:tensorflow:Create CheckpointSaverHook.\n",
      "INFO:tensorflow:Restoring parameters from /tmp/tmp9j67up9x/model.ckpt-1000\n",
      "INFO:tensorflow:Saving checkpoints for 1001 into /tmp/tmp9j67up9x/model.ckpt.\n",
      "INFO:tensorflow:step = 1001, loss = 2.08877444338e-11\n",
      "INFO:tensorflow:global_step/sec: 1045.21\n",
      "INFO:tensorflow:step = 1101, loss = 3.05429678079e-13 (0.096 sec)\n",
      "INFO:tensorflow:global_step/sec: 1212.08\n",
      "INFO:tensorflow:step = 1201, loss = 4.73973856686e-14 (0.087 sec)\n",
      "INFO:tensorflow:global_step/sec: 1214.05\n",
      "INFO:tensorflow:step = 1301, loss = 7.44536933845e-15 (0.078 sec)\n",
      "INFO:tensorflow:global_step/sec: 1259.82\n",
      "INFO:tensorflow:step = 1401, loss = 6.13743516504e-16 (0.081 sec)\n",
      "INFO:tensorflow:global_step/sec: 1274.36\n",
      "INFO:tensorflow:step = 1501, loss = 6.55979970928e-17 (0.077 sec)\n",
      "INFO:tensorflow:global_step/sec: 1256.52\n",
      "INFO:tensorflow:step = 1601, loss = 4.75898992417e-18 (0.079 sec)\n",
      "INFO:tensorflow:global_step/sec: 1307.22\n",
      "INFO:tensorflow:step = 1701, loss = 1.68417760094e-19 (0.078 sec)\n",
      "INFO:tensorflow:global_step/sec: 1219.25\n",
      "INFO:tensorflow:step = 1801, loss = 5.8416038448e-20 (0.080 sec)\n",
      "INFO:tensorflow:global_step/sec: 1109.88\n",
      "INFO:tensorflow:step = 1901, loss = 3.61869441429e-21 (0.090 sec)\n",
      "INFO:tensorflow:Saving checkpoints for 2000 into /tmp/tmp9j67up9x/model.ckpt.\n",
      "INFO:tensorflow:Loss for final step: 3.99947545115e-22.\n",
      "INFO:tensorflow:Starting evaluation at 2018-01-26-01:17:42\n",
      "INFO:tensorflow:Restoring parameters from /tmp/tmp9j67up9x/model.ckpt-2000\n",
      "INFO:tensorflow:Finished evaluation at 2018-01-26-01:17:42\n",
      "INFO:tensorflow:Saving dict for global step 2000: global_step = 2000, loss = 2.76097e-22\n",
      "INFO:tensorflow:Starting evaluation at 2018-01-26-01:17:42\n",
      "INFO:tensorflow:Restoring parameters from /tmp/tmp9j67up9x/model.ckpt-2000\n",
      "INFO:tensorflow:Finished evaluation at 2018-01-26-01:17:43\n",
      "INFO:tensorflow:Saving dict for global step 2000: global_step = 2000, loss = 0.0101\n",
      "Train metrics: {'loss': 2.760974e-22, 'global_step': 2000}\n",
      "Eval metrics: {'loss': 0.010100011, 'global_step': 2000}\n"
     ]
    }
   ],
   "source": [
    "estimator.train(input_fn=input_fn, steps=1000)\n",
    "\n",
    "train_metrics = estimator.evaluate(input_fn=train_input_fn)\n",
    "eval_metrics = estimator.evaluate(input_fn=eval_input_fn)\n",
    "\n",
    "print('Train metrics: %r' % train_metrics)\n",
    "print('Eval metrics: %r' % eval_metrics)"
   ]
  },
  {
   "cell_type": "code",
   "execution_count": null,
   "metadata": {},
   "outputs": [],
   "source": []
  }
 ],
 "metadata": {
  "kernelspec": {
   "display_name": "Python 3",
   "language": "python",
   "name": "python3"
  },
  "language_info": {
   "codemirror_mode": {
    "name": "ipython",
    "version": 3
   },
   "file_extension": ".py",
   "mimetype": "text/x-python",
   "name": "python",
   "nbconvert_exporter": "python",
   "pygments_lexer": "ipython3",
   "version": "3.5.2"
  }
 },
 "nbformat": 4,
 "nbformat_minor": 2
}
