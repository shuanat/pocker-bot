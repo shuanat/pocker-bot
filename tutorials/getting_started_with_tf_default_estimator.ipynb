{
 "cells": [
  {
   "cell_type": "code",
   "execution_count": 1,
   "metadata": {},
   "outputs": [],
   "source": [
    "import tensorflow as tf\n",
    "import numpy as np"
   ]
  },
  {
   "cell_type": "code",
   "execution_count": 2,
   "metadata": {},
   "outputs": [],
   "source": [
    "feature_columns = [\n",
    "    tf.feature_column.numeric_column('x', shape=[1])\n",
    "]"
   ]
  },
  {
   "cell_type": "code",
   "execution_count": 4,
   "metadata": {},
   "outputs": [
    {
     "name": "stdout",
     "output_type": "stream",
     "text": [
      "INFO:tensorflow:Using default config.\n",
      "INFO:tensorflow:Using config: {'_is_chief': True, '_model_dir': 'model', '_save_checkpoints_steps': None, '_num_worker_replicas': 1, '_keep_checkpoint_max': 5, '_service': None, '_task_type': 'worker', '_master': '', '_save_checkpoints_secs': 600, '_cluster_spec': <tensorflow.python.training.server_lib.ClusterSpec object at 0x7fd297c08d30>, '_save_summary_steps': 100, '_tf_random_seed': None, '_task_id': 0, '_keep_checkpoint_every_n_hours': 10000, '_session_config': None, '_log_step_count_steps': 100, '_num_ps_replicas': 0}\n"
     ]
    }
   ],
   "source": [
    "estimator = tf.estimator.LinearRegressor(\n",
    "    feature_columns=feature_columns,\n",
    "    model_dir='model'\n",
    ")"
   ]
  },
  {
   "cell_type": "code",
   "execution_count": 8,
   "metadata": {},
   "outputs": [],
   "source": [
    "x_train = np.array([1., 2., 3., 4.])\n",
    "y_train = np.array([0., -1., -2., -3.])\n",
    "x_eval = np.array([2., 5., 8., 1.])\n",
    "y_eval = np.array([-1.01, -4.1, -7, 0.])\n",
    "\n",
    "input_fn = tf.estimator.inputs.numpy_input_fn(\n",
    "    {'x': x_train}, y_train, batch_size=4, num_epochs=None, shuffle=True\n",
    ")\n",
    "\n",
    "input_train_fn = tf.estimator.inputs.numpy_input_fn(\n",
    "    {'x': x_train}, y_train, batch_size=4, num_epochs=1000, shuffle=False\n",
    ")\n",
    "\n",
    "eval_input_fn = tf.estimator.inputs.numpy_input_fn(\n",
    "    {'x': x_eval}, y_eval, batch_size=4, num_epochs=1000, shuffle=False\n",
    ")"
   ]
  },
  {
   "cell_type": "code",
   "execution_count": 9,
   "metadata": {},
   "outputs": [
    {
     "name": "stdout",
     "output_type": "stream",
     "text": [
      "INFO:tensorflow:Create CheckpointSaverHook.\n",
      "INFO:tensorflow:Restoring parameters from model/model.ckpt-1000\n",
      "INFO:tensorflow:Saving checkpoints for 1001 into model/model.ckpt.\n",
      "INFO:tensorflow:loss = 4.59272e-07, step = 1001\n",
      "INFO:tensorflow:global_step/sec: 840.355\n",
      "INFO:tensorflow:loss = 7.8759e-08, step = 1101 (0.119 sec)\n",
      "INFO:tensorflow:global_step/sec: 1076.28\n",
      "INFO:tensorflow:loss = 1.4358e-08, step = 1201 (0.093 sec)\n",
      "INFO:tensorflow:global_step/sec: 1068.17\n",
      "INFO:tensorflow:loss = 3.31511e-09, step = 1301 (0.094 sec)\n",
      "INFO:tensorflow:global_step/sec: 900.428\n",
      "INFO:tensorflow:loss = 8.13387e-10, step = 1401 (0.111 sec)\n",
      "INFO:tensorflow:global_step/sec: 940.062\n",
      "INFO:tensorflow:loss = 2.25583e-10, step = 1501 (0.106 sec)\n",
      "INFO:tensorflow:global_step/sec: 890.611\n",
      "INFO:tensorflow:loss = 3.05818e-11, step = 1601 (0.112 sec)\n",
      "INFO:tensorflow:global_step/sec: 835.684\n",
      "INFO:tensorflow:loss = 1.14859e-11, step = 1701 (0.120 sec)\n",
      "INFO:tensorflow:global_step/sec: 879.814\n",
      "INFO:tensorflow:loss = 1.76215e-12, step = 1801 (0.114 sec)\n",
      "INFO:tensorflow:global_step/sec: 832.036\n",
      "INFO:tensorflow:loss = 4.61853e-12, step = 1901 (0.120 sec)\n",
      "INFO:tensorflow:Saving checkpoints for 2000 into model/model.ckpt.\n",
      "INFO:tensorflow:Loss for final step: 1.77636e-12.\n",
      "INFO:tensorflow:Starting evaluation at 2018-01-26-00:55:53\n",
      "INFO:tensorflow:Restoring parameters from model/model.ckpt-2000\n",
      "INFO:tensorflow:Finished evaluation at 2018-01-26-00:55:53\n",
      "INFO:tensorflow:Saving dict for global step 2000: average_loss = 4.44089e-13, global_step = 2000, loss = 1.77636e-12\n",
      "INFO:tensorflow:Starting evaluation at 2018-01-26-00:55:53\n",
      "INFO:tensorflow:Restoring parameters from model/model.ckpt-2000\n",
      "INFO:tensorflow:Finished evaluation at 2018-01-26-00:55:54\n",
      "INFO:tensorflow:Saving dict for global step 2000: average_loss = 0.00252502, global_step = 2000, loss = 0.0101001\n",
      "train metrics: {'loss': 1.7763568e-12, 'average_loss': 4.4408921e-13, 'global_step': 2000}\n",
      "eval metrics: {'loss': 0.010100063, 'average_loss': 0.0025250157, 'global_step': 2000}\n"
     ]
    }
   ],
   "source": [
    "estimator.train(input_fn=input_fn, steps=1000)\n",
    "\n",
    "train_metrics = estimator.evaluate(input_fn=input_train_fn)\n",
    "eval_metrics = estimator.evaluate(input_fn=eval_input_fn)\n",
    "\n",
    "print('train metrics: %r' % train_metrics)\n",
    "print('eval metrics: %r' % eval_metrics)"
   ]
  },
  {
   "cell_type": "code",
   "execution_count": null,
   "metadata": {},
   "outputs": [],
   "source": []
  }
 ],
 "metadata": {
  "kernelspec": {
   "display_name": "Python 3",
   "language": "python",
   "name": "python3"
  },
  "language_info": {
   "codemirror_mode": {
    "name": "ipython",
    "version": 3
   },
   "file_extension": ".py",
   "mimetype": "text/x-python",
   "name": "python",
   "nbconvert_exporter": "python",
   "pygments_lexer": "ipython3",
   "version": "3.5.2"
  }
 },
 "nbformat": 4,
 "nbformat_minor": 2
}
