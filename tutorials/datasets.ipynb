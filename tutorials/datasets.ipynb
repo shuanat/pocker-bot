{
 "cells": [
  {
   "cell_type": "code",
   "execution_count": 2,
   "metadata": {
    "collapsed": true
   },
   "outputs": [],
   "source": [
    "%matplotlib inline\n",
    "import tensorflow as tf\n",
    "from tensorflow.python.data import Dataset\n",
    "from iris import iris_data\n",
    "from PIL import Image\n",
    "import matplotlib.pyplot as plt\n",
    "import numpy as np"
   ]
  },
  {
   "cell_type": "code",
   "execution_count": 3,
   "metadata": {
    "collapsed": true
   },
   "outputs": [],
   "source": [
    "sess = tf.InteractiveSession()"
   ]
  },
  {
   "cell_type": "code",
   "execution_count": 4,
   "metadata": {},
   "outputs": [],
   "source": [
    "(train_x, train_y), (test_x, test_y) = iris_data.load_data()"
   ]
  },
  {
   "cell_type": "code",
   "execution_count": 5,
   "metadata": {
    "collapsed": true
   },
   "outputs": [],
   "source": [
    "(r) = iris_data.train_input_fn(train_x, train_y, 10)"
   ]
  },
  {
   "cell_type": "code",
   "execution_count": 6,
   "metadata": {},
   "outputs": [
    {
     "data": {
      "text/plain": [
       "<matplotlib.image.AxesImage at 0x10cb24950>"
      ]
     },
     "execution_count": 6,
     "metadata": {},
     "output_type": "execute_result"
    },
    {
     "data": {
      "image/png": "[encoded data removed]",
      "text/plain": [
       "<matplotlib.figure.Figure at 0x10ca32190>"
      ]
     },
     "metadata": {},
     "output_type": "display_data"
    }
   ],
   "source": [
    "im = Image.open('suit_diamond.png')\n",
    "plt.imshow(im, interpolation='none')"
   ]
  },
  {
   "cell_type": "code",
   "execution_count": 7,
   "metadata": {},
   "outputs": [
    {
     "data": {
      "text/plain": [
       "(10, 1224, 4)"
      ]
     },
     "execution_count": 7,
     "metadata": {},
     "output_type": "execute_result"
    }
   ],
   "source": [
    "arr = np.asarray(im.getdata())\n",
    "t_x = np.asarray([arr for i in range(0, 10)])\n",
    "t_x = {'x': t_x}\n",
    "t_y = range(0, 10)\n",
    "t_x['x'].shape"
   ]
  },
  {
   "cell_type": "code",
   "execution_count": 8,
   "metadata": {},
   "outputs": [
    {
     "data": {
      "text/plain": [
       "array([[[ 71, 112,  76,   0],\n",
       "        [ 71, 112,  76,   0],\n",
       "        [ 71, 112,  76,   0],\n",
       "        ..., \n",
       "        [ 71, 112,  76,   0],\n",
       "        [ 71, 112,  76,   0],\n",
       "        [ 71, 112,  76,   0]],\n",
       "\n",
       "       [[ 71, 112,  76,   0],\n",
       "        [ 71, 112,  76,   0],\n",
       "        [ 71, 112,  76,   0],\n",
       "        ..., \n",
       "        [ 71, 112,  76,   0],\n",
       "        [ 71, 112,  76,   0],\n",
       "        [ 71, 112,  76,   0]],\n",
       "\n",
       "       [[ 71, 112,  76,   0],\n",
       "        [ 71, 112,  76,   0],\n",
       "        [ 71, 112,  76,   0],\n",
       "        ..., \n",
       "        [ 71, 112,  76,   0],\n",
       "        [ 71, 112,  76,   0],\n",
       "        [ 71, 112,  76,   0]],\n",
       "\n",
       "       ..., \n",
       "       [[ 71, 112,  76,   0],\n",
       "        [ 71, 112,  76,   0],\n",
       "        [ 71, 112,  76,   0],\n",
       "        ..., \n",
       "        [ 71, 112,  76,   0],\n",
       "        [ 71, 112,  76,   0],\n",
       "        [ 71, 112,  76,   0]],\n",
       "\n",
       "       [[ 71, 112,  76,   0],\n",
       "        [ 71, 112,  76,   0],\n",
       "        [ 71, 112,  76,   0],\n",
       "        ..., \n",
       "        [ 71, 112,  76,   0],\n",
       "        [ 71, 112,  76,   0],\n",
       "        [ 71, 112,  76,   0]],\n",
       "\n",
       "       [[ 71, 112,  76,   0],\n",
       "        [ 71, 112,  76,   0],\n",
       "        [ 71, 112,  76,   0],\n",
       "        ..., \n",
       "        [ 71, 112,  76,   0],\n",
       "        [ 71, 112,  76,   0],\n",
       "        [ 71, 112,  76,   0]]])"
      ]
     },
     "execution_count": 8,
     "metadata": {},
     "output_type": "execute_result"
    }
   ],
   "source": [
    "dataset = tf.data.Dataset.from_tensor_slices((t_x, t_y))\n",
    "dataset = dataset.repeat(3).batch(30)\n",
    "x, y = dataset.make_one_shot_iterator().get_next()\n",
    "x['x'].eval()"
   ]
  },
  {
   "cell_type": "code",
   "execution_count": null,
   "metadata": {
    "collapsed": true
   },
   "outputs": [],
   "source": []
  }
 ],
 "metadata": {
  "kernelspec": {
   "display_name": "Python 3",
   "language": "python",
   "name": "python3"
  },
  "language_info": {
   "codemirror_mode": {
    "name": "ipython",
    "version": 3
   },
   "file_extension": ".py",
   "mimetype": "text/x-python",
   "name": "python",
   "nbconvert_exporter": "python",
   "pygments_lexer": "ipython3",
   "version": "3.5.2"
  }
 },
 "nbformat": 4,
 "nbformat_minor": 2
}
